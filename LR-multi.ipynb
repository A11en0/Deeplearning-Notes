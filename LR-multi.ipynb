{
 "cells": [
  {
   "cell_type": "code",
   "execution_count": 1,
   "metadata": {},
   "outputs": [],
   "source": [
    "import numpy as np\n",
    "import os\n",
    "import matplotlib.pyplot as plt\n",
    "from mxnet import autograd, nd\n",
    "import random"
   ]
  },
  {
   "cell_type": "code",
   "execution_count": 2,
   "metadata": {},
   "outputs": [],
   "source": [
    "def featureNormalize(X):\n",
    "    X_norm = X.copy()\n",
    "    mu = np.zeros(X.shape[1])\n",
    "    sigma = np.zeros(X.shape[1])\n",
    "\n",
    "    mu = np.mean(X_norm, axis=0)\n",
    "    sigma = np.std(X_norm, axis=0)\n",
    "    X_norm = (X_norm - mu) / sigma\n",
    "\n",
    "    return X_norm, mu, sigma"
   ]
  },
  {
   "cell_type": "code",
   "execution_count": 3,
   "metadata": {},
   "outputs": [],
   "source": [
    "def computeCost(X, y, theta):\n",
    "    m = y.shape[0]\n",
    "    J = 0\n",
    "    h = X.dot(theta)\n",
    "    J = 1.0 / (2*m)*np.sum(np.square(h-y))\n",
    "    return J"
   ]
  },
  {
   "cell_type": "code",
   "execution_count": 4,
   "metadata": {},
   "outputs": [],
   "source": [
    "def gradientDescent(X, y, theta, alpha, epoch):\n",
    "    m = y.shape[0]\n",
    "    theta = theta.copy()\n",
    "    J_history = []\n",
    "    for i in range(epoch):\n",
    "        h = X.dot(theta)\n",
    "        theta = theta - alpha*(1.0 / m)*(X.T.dot(h-y))\n",
    "        J_history.append(computeCost(X, y, theta))\n",
    "    return theta, J_history"
   ]
  },
  {
   "cell_type": "code",
   "execution_count": null,
   "metadata": {},
   "outputs": [],
   "source": [
    "data = np.loadtxt(os.path.join('./Data/linear', 'ex1data2.txt'), delimiter=',')\n",
    "X = data[:, :2]\n",
    "y = data[:, 2]\n",
    "m = y.size\n",
    "X.shape"
   ]
  },
  {
   "cell_type": "code",
   "execution_count": null,
   "metadata": {},
   "outputs": [],
   "source": [
    "X_norm, mu ,sigma = featureNormalize(X)\n",
    "X = np.concatenate([np.ones((m, 1)), X_norm], axis=1)"
   ]
  },
  {
   "cell_type": "code",
   "execution_count": null,
   "metadata": {},
   "outputs": [],
   "source": [
    "alpha = 0.1\n",
    "epoch = 500\n",
    "\n",
    "theta = np.zeros(3)\n",
    "theta, J_history = gradientDescent(X, y ,theta, alpha, epoch)\n",
    "\n",
    "plt.plot(np.arange(len(J_history)), J_history, lw=2)\n",
    "plt.xlabel(\"epoch\")\n",
    "plt.ylabel(\"Cost J\")\n",
    "print(theta)\n",
    "\n",
    "data = np.array([1650, 3])\n",
    "data = np.hstack([1, (data - mu) / sigma])\n",
    "price = np.dot(theta, data)\n",
    "print(\"Price : \", price)\n",
    "\n",
    "plt.show()"
   ]
  },
  {
   "cell_type": "code",
   "execution_count": 5,
   "metadata": {},
   "outputs": [
    {
     "data": {
      "text/plain": [
       "(1000, 2)"
      ]
     },
     "execution_count": 5,
     "metadata": {},
     "output_type": "execute_result"
    }
   ],
   "source": [
    "num_inputs = 2\n",
    "num_examples = 1000\n",
    "true_w = [2, -3.4]\n",
    "true_b = 8.8\n",
    "\n",
    "X = np.random.normal(scale=1, size=(num_examples, num_inputs))\n",
    "y = true_w[0]*X[:, 0] + true_w[1]*X[:, 1] + true_b\n",
    "y += np.random.normal(scale=1, size=y.shape)\n",
    "X.shape"
   ]
  },
  {
   "cell_type": "code",
   "execution_count": 7,
   "metadata": {},
   "outputs": [
    {
     "data": {
      "text/plain": [
       "(1000, 3)"
      ]
     },
     "execution_count": 7,
     "metadata": {},
     "output_type": "execute_result"
    }
   ],
   "source": [
    "m = y.shape[0]\n",
    "X = np.concatenate([np.ones((m, 1)), X], axis=1)\n",
    "X.shape"
   ]
  },
  {
   "cell_type": "code",
   "execution_count": 8,
   "metadata": {},
   "outputs": [
    {
     "name": "stdout",
     "output_type": "stream",
     "text": [
      "predict:  [ 8.74814443  2.02183354 -3.45487836]\n",
      "true:     [8.8, 2, -3.4]\n"
     ]
    }
   ],
   "source": [
    "# w = np.random.normal(scale=0.01, size=(num_inputs,)\n",
    "# w = np.hstack([1, w])\n",
    "\n",
    "theta = np.zeros(3)\n",
    "alpha = 0.01\n",
    "epoch = 1000\n",
    "theta, J_history = gradientDescent(X, y, theta, alpha, epoch)\n",
    "print(\"predict: \", theta)\n",
    "print(\"true:    \", [true_b, *true_w])"
   ]
  },
  {
   "cell_type": "code",
   "execution_count": 8,
   "metadata": {},
   "outputs": [],
   "source": [
    "def data_iter(batch_size, features, lables):\n",
    "    num_examples = len(features)\n",
    "    indices = list(range(num_examples))\n",
    "    random.shuffle(indices)\n",
    "    for i in range(0, num_examples, batch_size):\n",
    "        j = nd.array(indices[i: min(i + batch_size, num_examples)])\n",
    "        yield features.take(j), lables.take(j)"
   ]
  }
 ],
 "metadata": {
  "kernelspec": {
   "display_name": "Python [conda env:ai] *",
   "language": "python",
   "name": "conda-env-ai-py"
  },
  "language_info": {
   "codemirror_mode": {
    "name": "ipython",
    "version": 3
   },
   "file_extension": ".py",
   "mimetype": "text/x-python",
   "name": "python",
   "nbconvert_exporter": "python",
   "pygments_lexer": "ipython3",
   "version": "3.7.5"
  }
 },
 "nbformat": 4,
 "nbformat_minor": 2
}
