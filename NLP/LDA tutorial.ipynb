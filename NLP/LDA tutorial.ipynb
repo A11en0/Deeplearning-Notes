{
 "cells": [
  {
   "cell_type": "code",
   "execution_count": 1,
   "metadata": {},
   "outputs": [],
   "source": [
    "import numpy as np\n",
    "import lda"
   ]
  },
  {
   "cell_type": "code",
   "execution_count": 62,
   "metadata": {},
   "outputs": [],
   "source": [
    "X = lda.datasets.load_reuters()\n",
    "vocab = lda.datasets.load_reuters_vocab()\n",
    "titles = lda.datasets.load_reuters_titles()"
   ]
  },
  {
   "cell_type": "code",
   "execution_count": 64,
   "metadata": {},
   "outputs": [
    {
     "name": "stdout",
     "output_type": "stream",
     "text": [
      "4258\n"
     ]
    }
   ],
   "source": [
    "print(len(vocab))"
   ]
  },
  {
   "cell_type": "code",
   "execution_count": 3,
   "metadata": {},
   "outputs": [
    {
     "data": {
      "text/plain": [
       "(395, 4258)"
      ]
     },
     "execution_count": 3,
     "metadata": {},
     "output_type": "execute_result"
    }
   ],
   "source": [
    "X.shape"
   ]
  },
  {
   "cell_type": "code",
   "execution_count": 4,
   "metadata": {},
   "outputs": [
    {
     "data": {
      "text/plain": [
       "84010"
      ]
     },
     "execution_count": 4,
     "metadata": {},
     "output_type": "execute_result"
    }
   ],
   "source": [
    "X.sum()"
   ]
  },
  {
   "cell_type": "code",
   "execution_count": 5,
   "metadata": {},
   "outputs": [
    {
     "data": {
      "text/plain": [
       "('church', 'pope', 'years', 'people', 'mother')"
      ]
     },
     "execution_count": 5,
     "metadata": {},
     "output_type": "execute_result"
    }
   ],
   "source": [
    "vocab[:5]"
   ]
  },
  {
   "cell_type": "code",
   "execution_count": 6,
   "metadata": {},
   "outputs": [
    {
     "data": {
      "text/plain": [
       "('0 UK: Prince Charles spearheads British royal revolution. LONDON 1996-08-20',\n",
       " '1 GERMANY: Historic Dresden church rising from WW2 ashes. DRESDEN, Germany 1996-08-21',\n",
       " \"2 INDIA: Mother Teresa's condition said still unstable. CALCUTTA 1996-08-23\",\n",
       " '3 UK: Palace warns British weekly over Charles pictures. LONDON 1996-08-25',\n",
       " '4 INDIA: Mother Teresa, slightly stronger, blesses nuns. CALCUTTA 1996-08-25')"
      ]
     },
     "execution_count": 6,
     "metadata": {},
     "output_type": "execute_result"
    }
   ],
   "source": [
    "titles[:5]"
   ]
  },
  {
   "cell_type": "code",
   "execution_count": 60,
   "metadata": {},
   "outputs": [
    {
     "name": "stderr",
     "output_type": "stream",
     "text": [
      "INFO:lda:n_documents: 395\n",
      "INFO:lda:vocab_size: 4258\n",
      "INFO:lda:n_words: 84010\n",
      "INFO:lda:n_topics: 20\n",
      "INFO:lda:n_iter: 1500\n",
      "INFO:lda:<0> log likelihood: -1051748\n",
      "INFO:lda:<10> log likelihood: -721992\n",
      "INFO:lda:<20> log likelihood: -701281\n",
      "INFO:lda:<30> log likelihood: -692899\n",
      "INFO:lda:<40> log likelihood: -687495\n",
      "INFO:lda:<50> log likelihood: -683933\n",
      "INFO:lda:<60> log likelihood: -680950\n",
      "INFO:lda:<70> log likelihood: -678253\n",
      "INFO:lda:<80> log likelihood: -676331\n",
      "INFO:lda:<90> log likelihood: -675203\n",
      "INFO:lda:<100> log likelihood: -673154\n",
      "INFO:lda:<110> log likelihood: -671880\n",
      "INFO:lda:<120> log likelihood: -670642\n",
      "INFO:lda:<130> log likelihood: -669378\n",
      "INFO:lda:<140> log likelihood: -669324\n",
      "INFO:lda:<150> log likelihood: -669086\n",
      "INFO:lda:<160> log likelihood: -667835\n",
      "INFO:lda:<170> log likelihood: -667801\n",
      "INFO:lda:<180> log likelihood: -667118\n",
      "INFO:lda:<190> log likelihood: -666363\n",
      "INFO:lda:<200> log likelihood: -665758\n",
      "INFO:lda:<210> log likelihood: -665797\n",
      "INFO:lda:<220> log likelihood: -665335\n",
      "INFO:lda:<230> log likelihood: -664870\n",
      "INFO:lda:<240> log likelihood: -665403\n",
      "INFO:lda:<250> log likelihood: -664099\n",
      "INFO:lda:<260> log likelihood: -663909\n",
      "INFO:lda:<270> log likelihood: -664316\n",
      "INFO:lda:<280> log likelihood: -664124\n",
      "INFO:lda:<290> log likelihood: -663529\n",
      "INFO:lda:<300> log likelihood: -662722\n",
      "INFO:lda:<310> log likelihood: -662870\n",
      "INFO:lda:<320> log likelihood: -662540\n",
      "INFO:lda:<330> log likelihood: -662215\n",
      "INFO:lda:<340> log likelihood: -662289\n",
      "INFO:lda:<350> log likelihood: -662311\n",
      "INFO:lda:<360> log likelihood: -661570\n",
      "INFO:lda:<370> log likelihood: -662056\n",
      "INFO:lda:<380> log likelihood: -661853\n",
      "INFO:lda:<390> log likelihood: -661115\n",
      "INFO:lda:<400> log likelihood: -660559\n",
      "INFO:lda:<410> log likelihood: -661274\n",
      "INFO:lda:<420> log likelihood: -661483\n",
      "INFO:lda:<430> log likelihood: -660837\n",
      "INFO:lda:<440> log likelihood: -661395\n",
      "INFO:lda:<450> log likelihood: -660619\n",
      "INFO:lda:<460> log likelihood: -660852\n",
      "INFO:lda:<470> log likelihood: -660626\n",
      "INFO:lda:<480> log likelihood: -660739\n",
      "INFO:lda:<490> log likelihood: -660632\n",
      "INFO:lda:<500> log likelihood: -660603\n",
      "INFO:lda:<510> log likelihood: -660576\n",
      "INFO:lda:<520> log likelihood: -660739\n",
      "INFO:lda:<530> log likelihood: -659996\n",
      "INFO:lda:<540> log likelihood: -660708\n",
      "INFO:lda:<550> log likelihood: -660048\n",
      "INFO:lda:<560> log likelihood: -660255\n",
      "INFO:lda:<570> log likelihood: -660435\n",
      "INFO:lda:<580> log likelihood: -660186\n",
      "INFO:lda:<590> log likelihood: -659843\n",
      "INFO:lda:<600> log likelihood: -659707\n",
      "INFO:lda:<610> log likelihood: -659867\n",
      "INFO:lda:<620> log likelihood: -659882\n",
      "INFO:lda:<630> log likelihood: -660439\n",
      "INFO:lda:<640> log likelihood: -659964\n",
      "INFO:lda:<650> log likelihood: -659658\n",
      "INFO:lda:<660> log likelihood: -659688\n",
      "INFO:lda:<670> log likelihood: -659261\n",
      "INFO:lda:<680> log likelihood: -659339\n",
      "INFO:lda:<690> log likelihood: -659546\n",
      "INFO:lda:<700> log likelihood: -660137\n",
      "INFO:lda:<710> log likelihood: -659157\n",
      "INFO:lda:<720> log likelihood: -659279\n",
      "INFO:lda:<730> log likelihood: -659488\n",
      "INFO:lda:<740> log likelihood: -659363\n",
      "INFO:lda:<750> log likelihood: -659357\n",
      "INFO:lda:<760> log likelihood: -659296\n",
      "INFO:lda:<770> log likelihood: -658621\n",
      "INFO:lda:<780> log likelihood: -659148\n",
      "INFO:lda:<790> log likelihood: -659210\n",
      "INFO:lda:<800> log likelihood: -658976\n",
      "INFO:lda:<810> log likelihood: -659542\n",
      "INFO:lda:<820> log likelihood: -660122\n",
      "INFO:lda:<830> log likelihood: -659482\n",
      "INFO:lda:<840> log likelihood: -658861\n",
      "INFO:lda:<850> log likelihood: -658721\n",
      "INFO:lda:<860> log likelihood: -659078\n",
      "INFO:lda:<870> log likelihood: -659276\n",
      "INFO:lda:<880> log likelihood: -659177\n",
      "INFO:lda:<890> log likelihood: -659175\n",
      "INFO:lda:<900> log likelihood: -659304\n",
      "INFO:lda:<910> log likelihood: -659594\n",
      "INFO:lda:<920> log likelihood: -659439\n",
      "INFO:lda:<930> log likelihood: -659218\n",
      "INFO:lda:<940> log likelihood: -659054\n",
      "INFO:lda:<950> log likelihood: -658892\n",
      "INFO:lda:<960> log likelihood: -658872\n",
      "INFO:lda:<970> log likelihood: -658870\n",
      "INFO:lda:<980> log likelihood: -658794\n",
      "INFO:lda:<990> log likelihood: -659165\n",
      "INFO:lda:<1000> log likelihood: -658788\n",
      "INFO:lda:<1010> log likelihood: -659157\n",
      "INFO:lda:<1020> log likelihood: -658417\n",
      "INFO:lda:<1030> log likelihood: -658693\n",
      "INFO:lda:<1040> log likelihood: -658453\n",
      "INFO:lda:<1050> log likelihood: -658022\n",
      "INFO:lda:<1060> log likelihood: -658502\n",
      "INFO:lda:<1070> log likelihood: -658504\n",
      "INFO:lda:<1080> log likelihood: -658234\n",
      "INFO:lda:<1090> log likelihood: -658023\n",
      "INFO:lda:<1100> log likelihood: -657985\n",
      "INFO:lda:<1110> log likelihood: -658270\n",
      "INFO:lda:<1120> log likelihood: -658352\n",
      "INFO:lda:<1130> log likelihood: -657683\n",
      "INFO:lda:<1140> log likelihood: -658274\n",
      "INFO:lda:<1150> log likelihood: -658345\n",
      "INFO:lda:<1160> log likelihood: -657965\n",
      "INFO:lda:<1170> log likelihood: -658048\n",
      "INFO:lda:<1180> log likelihood: -658304\n",
      "INFO:lda:<1190> log likelihood: -658229\n",
      "INFO:lda:<1200> log likelihood: -658164\n",
      "INFO:lda:<1210> log likelihood: -658227\n",
      "INFO:lda:<1220> log likelihood: -658589\n",
      "INFO:lda:<1230> log likelihood: -658714\n",
      "INFO:lda:<1240> log likelihood: -658471\n",
      "INFO:lda:<1250> log likelihood: -658137\n",
      "INFO:lda:<1260> log likelihood: -657885\n",
      "INFO:lda:<1270> log likelihood: -658008\n",
      "INFO:lda:<1280> log likelihood: -658091\n",
      "INFO:lda:<1290> log likelihood: -657668\n",
      "INFO:lda:<1300> log likelihood: -657977\n",
      "INFO:lda:<1310> log likelihood: -657458\n",
      "INFO:lda:<1320> log likelihood: -657809\n",
      "INFO:lda:<1330> log likelihood: -657650\n",
      "INFO:lda:<1340> log likelihood: -657982\n",
      "INFO:lda:<1350> log likelihood: -657656\n",
      "INFO:lda:<1360> log likelihood: -657586\n",
      "INFO:lda:<1370> log likelihood: -657536\n",
      "INFO:lda:<1380> log likelihood: -657883\n",
      "INFO:lda:<1390> log likelihood: -657453\n",
      "INFO:lda:<1400> log likelihood: -657512\n",
      "INFO:lda:<1410> log likelihood: -657591\n",
      "INFO:lda:<1420> log likelihood: -657266\n",
      "INFO:lda:<1430> log likelihood: -657540\n",
      "INFO:lda:<1440> log likelihood: -657836\n",
      "INFO:lda:<1450> log likelihood: -657445\n",
      "INFO:lda:<1460> log likelihood: -656913\n",
      "INFO:lda:<1470> log likelihood: -657541\n",
      "INFO:lda:<1480> log likelihood: -657561\n",
      "INFO:lda:<1490> log likelihood: -657553\n",
      "INFO:lda:<1499> log likelihood: -657901\n"
     ]
    }
   ],
   "source": [
    "model = lda.LDA(n_topics=20, n_iter=1500, random_state=1000)\n",
    "model.fit(X)\n",
    "topic_word = model.topic_word_\n",
    "n_top_words = 8"
   ]
  },
  {
   "cell_type": "code",
   "execution_count": 73,
   "metadata": {},
   "outputs": [
    {
     "name": "stdout",
     "output_type": "stream",
     "text": [
      "(20, 4258)\n"
     ]
    }
   ],
   "source": [
    "print(topic_word.shape)"
   ]
  },
  {
   "cell_type": "code",
   "execution_count": 55,
   "metadata": {
    "scrolled": true
   },
   "outputs": [
    {
     "name": "stdout",
     "output_type": "stream",
     "text": [
      "Topic 0: against france french bardot west women film\n",
      "Topic 1: british churchill kennedy former sale london war\n",
      "Topic 2: germany german michael romania nazi letter king\n",
      "Topic 3: pope wright catholic bishop day church women\n",
      "Topic 4: east peace prize timor belo award indonesia\n",
      "Topic 5: minister party president government political group christian\n",
      "Topic 6: told life people years n't made former\n",
      "Topic 7: mother teresa order heart nuns charity calcutta\n",
      "Topic 8: city art miami versace cunanan police cultural\n",
      "Topic 9: charles prince royal diana king queen bowles\n",
      "Topic 10: church first people war during visit union\n",
      "Topic 11: elvis music fans concert king tour first\n",
      "Topic 12: yeltsin russian russia kremlin moscow operation president\n",
      "Topic 13: harriman u.s clinton paris ambassador churchill france\n",
      "Topic 14: year church world three last million says\n",
      "Topic 15: family church funeral died home service clinton\n",
      "Topic 16: pope vatican surgery rome hospital roman pontiff\n",
      "Topic 17: bernardin cardinal church cancer chicago death catholic\n",
      "Topic 18: film festival people director hollywood show poster\n",
      "Topic 19: simpson years leader quebec african first africa\n"
     ]
    }
   ],
   "source": [
    "for i, topic_dist in enumerate(topic_word):\n",
    "    topic_words = np.array(vocab)[np.argsort(topic_dist)][:-n_top_words:-1]\n",
    "    print('Topic {}: {}'.format(i, ' '.join(topic_words)))"
   ]
  },
  {
   "cell_type": "code",
   "execution_count": 56,
   "metadata": {},
   "outputs": [
    {
     "name": "stdout",
     "output_type": "stream",
     "text": [
      "0 UK: Prince Charles spearheads British royal revolution. LONDON 1996-08-20 (top topic: 9)\n",
      "1 GERMANY: Historic Dresden church rising from WW2 ashes. DRESDEN, Germany 1996-08-21 (top topic: 10)\n",
      "2 INDIA: Mother Teresa's condition said still unstable. CALCUTTA 1996-08-23 (top topic: 7)\n",
      "3 UK: Palace warns British weekly over Charles pictures. LONDON 1996-08-25 (top topic: 9)\n",
      "4 INDIA: Mother Teresa, slightly stronger, blesses nuns. CALCUTTA 1996-08-25 (top topic: 7)\n",
      "5 INDIA: Mother Teresa's condition unchanged, thousands pray. CALCUTTA 1996-08-25 (top topic: 7)\n",
      "6 INDIA: Mother Teresa shows signs of strength, blesses nuns. CALCUTTA 1996-08-26 (top topic: 7)\n",
      "7 INDIA: Mother Teresa's condition improves, many pray. CALCUTTA, India 1996-08-25 (top topic: 7)\n",
      "8 INDIA: Mother Teresa improves, nuns pray for \"miracle\". CALCUTTA 1996-08-26 (top topic: 7)\n",
      "9 UK: Charles under fire over prospect of Queen Camilla. LONDON 1996-08-26 (top topic: 9)\n"
     ]
    }
   ],
   "source": [
    "doc_topic = model.doc_topic_\n",
    "for i in range(10):\n",
    "    print(\"{} (top topic: {})\".format(titles[i], doc_topic[i].argmax()))"
   ]
  },
  {
   "cell_type": "code",
   "execution_count": 57,
   "metadata": {},
   "outputs": [
    {
     "name": "stderr",
     "output_type": "stream",
     "text": [
      "INFO:lda:n_documents: 385\n",
      "INFO:lda:vocab_size: 4258\n",
      "INFO:lda:n_words: 81638\n",
      "INFO:lda:n_topics: 20\n",
      "INFO:lda:n_iter: 1500\n",
      "WARNING:lda:all zero column in document-term matrix found\n",
      "INFO:lda:<0> log likelihood: -1023787\n",
      "INFO:lda:<10> log likelihood: -702835\n",
      "INFO:lda:<20> log likelihood: -681170\n",
      "INFO:lda:<30> log likelihood: -672707\n",
      "INFO:lda:<40> log likelihood: -668115\n",
      "INFO:lda:<50> log likelihood: -664758\n",
      "INFO:lda:<60> log likelihood: -662373\n",
      "INFO:lda:<70> log likelihood: -660891\n",
      "INFO:lda:<80> log likelihood: -658295\n",
      "INFO:lda:<90> log likelihood: -656514\n",
      "INFO:lda:<100> log likelihood: -655963\n",
      "INFO:lda:<110> log likelihood: -654069\n",
      "INFO:lda:<120> log likelihood: -652964\n",
      "INFO:lda:<130> log likelihood: -652273\n",
      "INFO:lda:<140> log likelihood: -651804\n",
      "INFO:lda:<150> log likelihood: -650778\n",
      "INFO:lda:<160> log likelihood: -649958\n",
      "INFO:lda:<170> log likelihood: -649838\n",
      "INFO:lda:<180> log likelihood: -648451\n",
      "INFO:lda:<190> log likelihood: -648501\n",
      "INFO:lda:<200> log likelihood: -647599\n",
      "INFO:lda:<210> log likelihood: -647649\n",
      "INFO:lda:<220> log likelihood: -646918\n",
      "INFO:lda:<230> log likelihood: -646782\n",
      "INFO:lda:<240> log likelihood: -646346\n",
      "INFO:lda:<250> log likelihood: -645752\n",
      "INFO:lda:<260> log likelihood: -646011\n",
      "INFO:lda:<270> log likelihood: -645482\n",
      "INFO:lda:<280> log likelihood: -645383\n",
      "INFO:lda:<290> log likelihood: -645256\n",
      "INFO:lda:<300> log likelihood: -643958\n",
      "INFO:lda:<310> log likelihood: -644588\n",
      "INFO:lda:<320> log likelihood: -644487\n",
      "INFO:lda:<330> log likelihood: -643499\n",
      "INFO:lda:<340> log likelihood: -643991\n",
      "INFO:lda:<350> log likelihood: -643317\n",
      "INFO:lda:<360> log likelihood: -644250\n",
      "INFO:lda:<370> log likelihood: -643864\n",
      "INFO:lda:<380> log likelihood: -643245\n",
      "INFO:lda:<390> log likelihood: -643369\n",
      "INFO:lda:<400> log likelihood: -642566\n",
      "INFO:lda:<410> log likelihood: -642896\n",
      "INFO:lda:<420> log likelihood: -642870\n",
      "INFO:lda:<430> log likelihood: -643167\n",
      "INFO:lda:<440> log likelihood: -643048\n",
      "INFO:lda:<450> log likelihood: -642454\n",
      "INFO:lda:<460> log likelihood: -642551\n",
      "INFO:lda:<470> log likelihood: -642794\n",
      "INFO:lda:<480> log likelihood: -642306\n",
      "INFO:lda:<490> log likelihood: -642537\n",
      "INFO:lda:<500> log likelihood: -642409\n",
      "INFO:lda:<510> log likelihood: -642149\n",
      "INFO:lda:<520> log likelihood: -642716\n",
      "INFO:lda:<530> log likelihood: -642638\n",
      "INFO:lda:<540> log likelihood: -642136\n",
      "INFO:lda:<550> log likelihood: -641667\n",
      "INFO:lda:<560> log likelihood: -642519\n",
      "INFO:lda:<570> log likelihood: -642014\n",
      "INFO:lda:<580> log likelihood: -641557\n",
      "INFO:lda:<590> log likelihood: -641347\n",
      "INFO:lda:<600> log likelihood: -641535\n",
      "INFO:lda:<610> log likelihood: -642140\n",
      "INFO:lda:<620> log likelihood: -641788\n",
      "INFO:lda:<630> log likelihood: -640885\n",
      "INFO:lda:<640> log likelihood: -641385\n",
      "INFO:lda:<650> log likelihood: -641705\n",
      "INFO:lda:<660> log likelihood: -641731\n",
      "INFO:lda:<670> log likelihood: -641134\n",
      "INFO:lda:<680> log likelihood: -640660\n",
      "INFO:lda:<690> log likelihood: -640773\n",
      "INFO:lda:<700> log likelihood: -641253\n",
      "INFO:lda:<710> log likelihood: -640866\n",
      "INFO:lda:<720> log likelihood: -640801\n",
      "INFO:lda:<730> log likelihood: -641415\n",
      "INFO:lda:<740> log likelihood: -641111\n",
      "INFO:lda:<750> log likelihood: -641302\n",
      "INFO:lda:<760> log likelihood: -640645\n",
      "INFO:lda:<770> log likelihood: -640589\n",
      "INFO:lda:<780> log likelihood: -640753\n",
      "INFO:lda:<790> log likelihood: -640601\n",
      "INFO:lda:<800> log likelihood: -640698\n",
      "INFO:lda:<810> log likelihood: -640883\n",
      "INFO:lda:<820> log likelihood: -640587\n",
      "INFO:lda:<830> log likelihood: -640344\n",
      "INFO:lda:<840> log likelihood: -640496\n",
      "INFO:lda:<850> log likelihood: -639773\n",
      "INFO:lda:<860> log likelihood: -640205\n",
      "INFO:lda:<870> log likelihood: -639868\n",
      "INFO:lda:<880> log likelihood: -639474\n",
      "INFO:lda:<890> log likelihood: -640057\n",
      "INFO:lda:<900> log likelihood: -639864\n",
      "INFO:lda:<910> log likelihood: -639698\n",
      "INFO:lda:<920> log likelihood: -639770\n",
      "INFO:lda:<930> log likelihood: -639738\n",
      "INFO:lda:<940> log likelihood: -639451\n",
      "INFO:lda:<950> log likelihood: -639676\n",
      "INFO:lda:<960> log likelihood: -639790\n",
      "INFO:lda:<970> log likelihood: -639462\n",
      "INFO:lda:<980> log likelihood: -639512\n",
      "INFO:lda:<990> log likelihood: -639115\n",
      "INFO:lda:<1000> log likelihood: -639567\n",
      "INFO:lda:<1010> log likelihood: -639582\n",
      "INFO:lda:<1020> log likelihood: -639446\n",
      "INFO:lda:<1030> log likelihood: -639209\n",
      "INFO:lda:<1040> log likelihood: -639404\n",
      "INFO:lda:<1050> log likelihood: -639238\n",
      "INFO:lda:<1060> log likelihood: -639246\n",
      "INFO:lda:<1070> log likelihood: -638625\n",
      "INFO:lda:<1080> log likelihood: -638532\n",
      "INFO:lda:<1090> log likelihood: -639289\n",
      "INFO:lda:<1100> log likelihood: -638649\n",
      "INFO:lda:<1110> log likelihood: -639088\n",
      "INFO:lda:<1120> log likelihood: -639138\n",
      "INFO:lda:<1130> log likelihood: -639009\n",
      "INFO:lda:<1140> log likelihood: -639157\n",
      "INFO:lda:<1150> log likelihood: -639059\n",
      "INFO:lda:<1160> log likelihood: -639553\n",
      "INFO:lda:<1170> log likelihood: -639089\n",
      "INFO:lda:<1180> log likelihood: -638752\n",
      "INFO:lda:<1190> log likelihood: -638854\n",
      "INFO:lda:<1200> log likelihood: -639233\n",
      "INFO:lda:<1210> log likelihood: -639259\n",
      "INFO:lda:<1220> log likelihood: -639054\n",
      "INFO:lda:<1230> log likelihood: -638961\n",
      "INFO:lda:<1240> log likelihood: -639357\n",
      "INFO:lda:<1250> log likelihood: -638824\n",
      "INFO:lda:<1260> log likelihood: -638880\n",
      "INFO:lda:<1270> log likelihood: -638743\n",
      "INFO:lda:<1280> log likelihood: -638669\n",
      "INFO:lda:<1290> log likelihood: -638746\n",
      "INFO:lda:<1300> log likelihood: -638713\n",
      "INFO:lda:<1310> log likelihood: -638565\n",
      "INFO:lda:<1320> log likelihood: -638997\n",
      "INFO:lda:<1330> log likelihood: -638629\n",
      "INFO:lda:<1340> log likelihood: -638901\n",
      "INFO:lda:<1350> log likelihood: -638867\n",
      "INFO:lda:<1360> log likelihood: -638644\n",
      "INFO:lda:<1370> log likelihood: -639023\n",
      "INFO:lda:<1380> log likelihood: -638792\n",
      "INFO:lda:<1390> log likelihood: -638747\n",
      "INFO:lda:<1400> log likelihood: -638750\n",
      "INFO:lda:<1410> log likelihood: -638693\n",
      "INFO:lda:<1420> log likelihood: -638438\n",
      "INFO:lda:<1430> log likelihood: -638493\n",
      "INFO:lda:<1440> log likelihood: -638190\n",
      "INFO:lda:<1450> log likelihood: -638367\n",
      "INFO:lda:<1460> log likelihood: -637934\n",
      "INFO:lda:<1470> log likelihood: -638111\n",
      "INFO:lda:<1480> log likelihood: -637992\n",
      "INFO:lda:<1490> log likelihood: -637920\n",
      "INFO:lda:<1499> log likelihood: -638471\n",
      "WARNING:lda:all zero column in document-term matrix found\n"
     ]
    },
    {
     "name": "stdout",
     "output_type": "stream",
     "text": [
      "0 UK: Prince Charles spearheads British royal revolution. LONDON 1996-08-20 (top topic: 7)\n",
      "1 GERMANY: Historic Dresden church rising from WW2 ashes. DRESDEN, Germany 1996-08-21 (top topic: 11)\n",
      "2 INDIA: Mother Teresa's condition said still unstable. CALCUTTA 1996-08-23 (top topic: 4)\n",
      "3 UK: Palace warns British weekly over Charles pictures. LONDON 1996-08-25 (top topic: 7)\n",
      "4 INDIA: Mother Teresa, slightly stronger, blesses nuns. CALCUTTA 1996-08-25 (top topic: 4)\n",
      "5 INDIA: Mother Teresa's condition unchanged, thousands pray. CALCUTTA 1996-08-25 (top topic: 4)\n",
      "6 INDIA: Mother Teresa shows signs of strength, blesses nuns. CALCUTTA 1996-08-26 (top topic: 4)\n",
      "7 INDIA: Mother Teresa's condition improves, many pray. CALCUTTA, India 1996-08-25 (top topic: 4)\n",
      "8 INDIA: Mother Teresa improves, nuns pray for \"miracle\". CALCUTTA 1996-08-26 (top topic: 4)\n",
      "9 UK: Charles under fire over prospect of Queen Camilla. LONDON 1996-08-26 (top topic: 11)\n"
     ]
    }
   ],
   "source": [
    "X = lda.datasets.load_reuters()\n",
    "titles = lda.datasets.load_reuters_titles()\n",
    "X_train = X[10:]\n",
    "X_test = X[:10]\n",
    "titles_test = titles[:10]\n",
    "model = lda.LDA(n_topics=20, n_iter=1500, random_state=1)\n",
    "model.fit(X_train)\n",
    "doc_topic_test = model.transform(X_test)\n",
    "for title, topics in zip(titles_test, doc_topic_test):\n",
    "    print(\"{} (top topic: {})\".format(title, topics.argmax()))"
   ]
  },
  {
   "cell_type": "code",
   "execution_count": 59,
   "metadata": {},
   "outputs": [
    {
     "data": {
      "text/plain": [
       "[<matplotlib.lines.Line2D at 0x7f6b9c65d4d0>]"
      ]
     },
     "execution_count": 59,
     "metadata": {},
     "output_type": "execute_result"
    },
    {
     "data": {
      "image/png": "[encoded data removed]",
      "text/plain": [
       "<Figure size 432x288 with 1 Axes>"
      ]
     },
     "metadata": {
      "needs_background": "light"
     },
     "output_type": "display_data"
    }
   ],
   "source": [
    "import matplotlib.pyplot as plt\n",
    "# skipping the first few entries makes the graph more readable\n",
    "plt.plot(model.loglikelihoods_[5:])"
   ]
  }
 ],
 "metadata": {
  "kernelspec": {
   "display_name": "Python [conda env:ai] *",
   "language": "python",
   "name": "conda-env-ai-py"
  },
  "language_info": {
   "codemirror_mode": {
    "name": "ipython",
    "version": 3
   },
   "file_extension": ".py",
   "mimetype": "text/x-python",
   "name": "python",
   "nbconvert_exporter": "python",
   "pygments_lexer": "ipython3",
   "version": "3.7.5"
  }
 },
 "nbformat": 4,
 "nbformat_minor": 2
}
