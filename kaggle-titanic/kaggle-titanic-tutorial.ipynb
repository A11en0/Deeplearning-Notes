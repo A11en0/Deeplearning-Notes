{
 "cells": [
  {
   "cell_type": "markdown",
   "metadata": {
    "_cell_guid": "d11dd1d4-4d4c-431e-a871-04020eef778f",
    "_uuid": "ccef06a134f4426aae32e1e69d9e9cead36fe088"
   },
   "source": [
    "# Kaggle Titanic 监督学习教程"
   ]
  },
  {
   "cell_type": "markdown",
   "metadata": {
    "_cell_guid": "284e99a4-b5d3-4950-bc29-35217aabccaa",
    "_uuid": "3d99c2f6dbb4a9cb7147b004708f38765ca74b77"
   },
   "source": [
    "## 1. Kaggle简介"
   ]
  },
  {
   "cell_type": "markdown",
   "metadata": {
    "_cell_guid": "93f8158e-5a84-42a2-9331-f88bb58e6074",
    "_uuid": "df8c0476ecc3147ceeb4f508133682cb74a4e979"
   },
   "source": [
    "[Kaggle](http://www.kaggle.com) 是一个人们创建算法并与世界各地的机器学习实践者竞争的网站。如果你的算法在特定的数据集上是最精确的，你的算法就会赢得比赛。Kaggle是练习机器学习技能的有趣方式。\n",
    "\n",
    "在这次任务中，我们将学习如何参Kaggle比赛。在本次介绍性任务中，我们将学习：\n",
    "\n",
    "* 如何参加Kaggle比赛\n",
    "* 探索比赛数据，了解比赛主题\n",
    "* 如何为机器学习准备数据\n",
    "* 训练一个模型\n",
    "* 度量模型的精度\n",
    "* 准备并完成您的第一个Kaggle提交。\n",
    "\n",
    "Kaggle为初学者设计了许多比赛。其中最受欢迎的比赛，也是我们将关注的比赛，是关于预测泰坦尼克号沉没后幸存的乘客，即[泰坦尼克号](https://www.kaggle.com/c/titanic)比赛。\n",
    "\n",
    "每个Kaggle比赛都有两个关键数据文件——一个训练集和一个测试集。"
   ]
  },
  {
   "cell_type": "code",
   "execution_count": 1,
   "metadata": {
    "_cell_guid": "20fb8f2a-bee9-4968-a056-ef7bcc7bc15f",
    "_uuid": "00a01ffd7bbba6caad2d1a5df319ec38c00434e6"
   },
   "outputs": [
    {
     "name": "stdout",
     "output_type": "stream",
     "text": [
      "test_shape: (418, 11)\n",
      "test type is:  <class 'pandas.core.frame.DataFrame'>\n"
     ]
    }
   ],
   "source": [
    "import pandas as pd\n",
    "\n",
    "test = pd.read_csv(\"./test.csv\")\n",
    "test_shape = test.shape\n",
    "print('test_shape:', test_shape)\n",
    "print('test type is: ', type(test))"
   ]
  },
  {
   "cell_type": "markdown",
   "metadata": {
    "_cell_guid": "66778718-5a69-4cba-a096-fac563d409ae",
    "_uuid": "8c186607608719d38cf8c99fa1c44e24a49b817e"
   },
   "source": [
    "### 说明"
   ]
  },
  {
   "cell_type": "markdown",
   "metadata": {
    "_cell_guid": "75996738-d55b-417e-9361-23ab76c8df42",
    "_uuid": "b4d3f451458d237aa56d200199f9b2ed4dfe02ef"
   },
   "source": [
    "使用 ```pandas.read_csv()``` 读取 ```train.csv``` 文件并赋给变量 ```train```。\n",
    "使用 ```DataFrame.shape``` 计算 ```train``` 的行数和列数, 并将结果赋给变量 ```train_shape```。"
   ]
  },
  {
   "cell_type": "code",
   "execution_count": 2,
   "metadata": {
    "_cell_guid": "a10e8b94-7125-4373-a642-7238849b5d29",
    "_uuid": "6fc2acd25cb5072c842da89bcbaf1d24f895ee56"
   },
   "outputs": [
    {
     "name": "stdout",
     "output_type": "stream",
     "text": [
      "train_shape: (891, 12)\n"
     ]
    }
   ],
   "source": [
    "train = pd.read_csv(\"./train.csv\")\n",
    "train_shape = train.shape\n",
    "print('train_shape:', train_shape)"
   ]
  },
  {
   "cell_type": "markdown",
   "metadata": {
    "_cell_guid": "8ecc10e6-f77d-40ad-9a0a-5c8e7881e822",
    "_uuid": "d8ded7bcb480f74574cb0174f410e25e69e09046"
   },
   "source": [
    "## 2. 浏览数据"
   ]
  },
  {
   "cell_type": "markdown",
   "metadata": {
    "_cell_guid": "99e03ddf-2043-46bb-8570-5c4b1de61fb4",
    "_uuid": "1d8b04508654865a8a778d7d9c8bb460307bff6f"
   },
   "source": [
    "我们在前面读到的文件可以在kaggle上泰坦尼克号比赛的数据页上找到。该页面还有一个数据字典，它解释组成数据集的各个列的含义。以下是该数据字典中包含的说明：\n",
    "\n",
    "* *PassengerID* - 一个用以标记每个乘客的数字id\n",
    "* *Survived* - 标记乘客是否幸存——幸存(1)、死亡(0)。我们将预测这一列\n",
    "* *Pclass* - 标记乘客所属船层——第一层(1),第二层(2),第三层(3)\n",
    "* *Name* - 乘客名字\n",
    "* *Sex* - 乘客性别\n",
    "* *Age* - 乘客年龄\n",
    "* *SibSp* - 船上兄弟姐妹和配偶的数量\n",
    "* *Parch* - 船上父母和孩子的数量\n",
    "* *Ticket* - 乘客的船票号码\n",
    "* *Fare* - 乘客为船票付了多少钱\n",
    "* *Cabin* - 乘客的船舱号码\n",
    "* *Embarked* - 乘客从哪个港口登上泰坦尼克号 (C=瑟堡, Q=皇后镇, S=南安普敦)"
   ]
  },
  {
   "cell_type": "markdown",
   "metadata": {
    "_cell_guid": "48ab7d8a-e8e5-4e02-a6e7-484e30c1b1f6",
    "_uuid": "a0790f959dd864a861288b8c7ca2516a0e03ecfa"
   },
   "source": [
    "### 让我们看看实际的数据"
   ]
  },
  {
   "cell_type": "code",
   "execution_count": 5,
   "metadata": {
    "_cell_guid": "5fb11aa8-2639-42b5-bd7d-5d14e9272d8e",
    "_uuid": "52198316fd2bb160b62cf034212e7a032c994aab"
   },
   "outputs": [
    {
     "data": {
      "text/html": [
       "<div>\n",
       "<style scoped>\n",
       "    .dataframe tbody tr th:only-of-type {\n",
       "        vertical-align: middle;\n",
       "    }\n",
       "\n",
       "    .dataframe tbody tr th {\n",
       "        vertical-align: top;\n",
       "    }\n",
       "\n",
       "    .dataframe thead th {\n",
       "        text-align: right;\n",
       "    }\n",
       "</style>\n",
       "<table border=\"1\" class=\"dataframe\">\n",
       "  <thead>\n",
       "    <tr style=\"text-align: right;\">\n",
       "      <th></th>\n",
       "      <th>PassengerId</th>\n",
       "      <th>Survived</th>\n",
       "      <th>Pclass</th>\n",
       "      <th>Name</th>\n",
       "      <th>Sex</th>\n",
       "      <th>Age</th>\n",
       "      <th>SibSp</th>\n",
       "      <th>Parch</th>\n",
       "      <th>Ticket</th>\n",
       "      <th>Fare</th>\n",
       "      <th>Cabin</th>\n",
       "      <th>Embarked</th>\n",
       "    </tr>\n",
       "  </thead>\n",
       "  <tbody>\n",
       "    <tr>\n",
       "      <td>0</td>\n",
       "      <td>1</td>\n",
       "      <td>0</td>\n",
       "      <td>3</td>\n",
       "      <td>Braund, Mr. Owen Harris</td>\n",
       "      <td>male</td>\n",
       "      <td>22.0</td>\n",
       "      <td>1</td>\n",
       "      <td>0</td>\n",
       "      <td>A/5 21171</td>\n",
       "      <td>7.2500</td>\n",
       "      <td>NaN</td>\n",
       "      <td>S</td>\n",
       "    </tr>\n",
       "    <tr>\n",
       "      <td>1</td>\n",
       "      <td>2</td>\n",
       "      <td>1</td>\n",
       "      <td>1</td>\n",
       "      <td>Cumings, Mrs. John Bradley (Florence Briggs Th...</td>\n",
       "      <td>female</td>\n",
       "      <td>38.0</td>\n",
       "      <td>1</td>\n",
       "      <td>0</td>\n",
       "      <td>PC 17599</td>\n",
       "      <td>71.2833</td>\n",
       "      <td>C85</td>\n",
       "      <td>C</td>\n",
       "    </tr>\n",
       "    <tr>\n",
       "      <td>2</td>\n",
       "      <td>3</td>\n",
       "      <td>1</td>\n",
       "      <td>3</td>\n",
       "      <td>Heikkinen, Miss. Laina</td>\n",
       "      <td>female</td>\n",
       "      <td>26.0</td>\n",
       "      <td>0</td>\n",
       "      <td>0</td>\n",
       "      <td>STON/O2. 3101282</td>\n",
       "      <td>7.9250</td>\n",
       "      <td>NaN</td>\n",
       "      <td>S</td>\n",
       "    </tr>\n",
       "    <tr>\n",
       "      <td>3</td>\n",
       "      <td>4</td>\n",
       "      <td>1</td>\n",
       "      <td>1</td>\n",
       "      <td>Futrelle, Mrs. Jacques Heath (Lily May Peel)</td>\n",
       "      <td>female</td>\n",
       "      <td>35.0</td>\n",
       "      <td>1</td>\n",
       "      <td>0</td>\n",
       "      <td>113803</td>\n",
       "      <td>53.1000</td>\n",
       "      <td>C123</td>\n",
       "      <td>S</td>\n",
       "    </tr>\n",
       "    <tr>\n",
       "      <td>4</td>\n",
       "      <td>5</td>\n",
       "      <td>0</td>\n",
       "      <td>3</td>\n",
       "      <td>Allen, Mr. William Henry</td>\n",
       "      <td>male</td>\n",
       "      <td>35.0</td>\n",
       "      <td>0</td>\n",
       "      <td>0</td>\n",
       "      <td>373450</td>\n",
       "      <td>8.0500</td>\n",
       "      <td>NaN</td>\n",
       "      <td>S</td>\n",
       "    </tr>\n",
       "    <tr>\n",
       "      <td>5</td>\n",
       "      <td>6</td>\n",
       "      <td>0</td>\n",
       "      <td>3</td>\n",
       "      <td>Moran, Mr. James</td>\n",
       "      <td>male</td>\n",
       "      <td>NaN</td>\n",
       "      <td>0</td>\n",
       "      <td>0</td>\n",
       "      <td>330877</td>\n",
       "      <td>8.4583</td>\n",
       "      <td>NaN</td>\n",
       "      <td>Q</td>\n",
       "    </tr>\n",
       "    <tr>\n",
       "      <td>6</td>\n",
       "      <td>7</td>\n",
       "      <td>0</td>\n",
       "      <td>1</td>\n",
       "      <td>McCarthy, Mr. Timothy J</td>\n",
       "      <td>male</td>\n",
       "      <td>54.0</td>\n",
       "      <td>0</td>\n",
       "      <td>0</td>\n",
       "      <td>17463</td>\n",
       "      <td>51.8625</td>\n",
       "      <td>E46</td>\n",
       "      <td>S</td>\n",
       "    </tr>\n",
       "    <tr>\n",
       "      <td>7</td>\n",
       "      <td>8</td>\n",
       "      <td>0</td>\n",
       "      <td>3</td>\n",
       "      <td>Palsson, Master. Gosta Leonard</td>\n",
       "      <td>male</td>\n",
       "      <td>2.0</td>\n",
       "      <td>3</td>\n",
       "      <td>1</td>\n",
       "      <td>349909</td>\n",
       "      <td>21.0750</td>\n",
       "      <td>NaN</td>\n",
       "      <td>S</td>\n",
       "    </tr>\n",
       "    <tr>\n",
       "      <td>8</td>\n",
       "      <td>9</td>\n",
       "      <td>1</td>\n",
       "      <td>3</td>\n",
       "      <td>Johnson, Mrs. Oscar W (Elisabeth Vilhelmina Berg)</td>\n",
       "      <td>female</td>\n",
       "      <td>27.0</td>\n",
       "      <td>0</td>\n",
       "      <td>2</td>\n",
       "      <td>347742</td>\n",
       "      <td>11.1333</td>\n",
       "      <td>NaN</td>\n",
       "      <td>S</td>\n",
       "    </tr>\n",
       "    <tr>\n",
       "      <td>9</td>\n",
       "      <td>10</td>\n",
       "      <td>1</td>\n",
       "      <td>2</td>\n",
       "      <td>Nasser, Mrs. Nicholas (Adele Achem)</td>\n",
       "      <td>female</td>\n",
       "      <td>14.0</td>\n",
       "      <td>1</td>\n",
       "      <td>0</td>\n",
       "      <td>237736</td>\n",
       "      <td>30.0708</td>\n",
       "      <td>NaN</td>\n",
       "      <td>C</td>\n",
       "    </tr>\n",
       "  </tbody>\n",
       "</table>\n",
       "</div>"
      ],
      "text/plain": [
       "   PassengerId  Survived  Pclass  \\\n",
       "0            1         0       3   \n",
       "1            2         1       1   \n",
       "2            3         1       3   \n",
       "3            4         1       1   \n",
       "4            5         0       3   \n",
       "5            6         0       3   \n",
       "6            7         0       1   \n",
       "7            8         0       3   \n",
       "8            9         1       3   \n",
       "9           10         1       2   \n",
       "\n",
       "                                                Name     Sex   Age  SibSp  \\\n",
       "0                            Braund, Mr. Owen Harris    male  22.0      1   \n",
       "1  Cumings, Mrs. John Bradley (Florence Briggs Th...  female  38.0      1   \n",
       "2                             Heikkinen, Miss. Laina  female  26.0      0   \n",
       "3       Futrelle, Mrs. Jacques Heath (Lily May Peel)  female  35.0      1   \n",
       "4                           Allen, Mr. William Henry    male  35.0      0   \n",
       "5                                   Moran, Mr. James    male   NaN      0   \n",
       "6                            McCarthy, Mr. Timothy J    male  54.0      0   \n",
       "7                     Palsson, Master. Gosta Leonard    male   2.0      3   \n",
       "8  Johnson, Mrs. Oscar W (Elisabeth Vilhelmina Berg)  female  27.0      0   \n",
       "9                Nasser, Mrs. Nicholas (Adele Achem)  female  14.0      1   \n",
       "\n",
       "   Parch            Ticket     Fare Cabin Embarked  \n",
       "0      0         A/5 21171   7.2500   NaN        S  \n",
       "1      0          PC 17599  71.2833   C85        C  \n",
       "2      0  STON/O2. 3101282   7.9250   NaN        S  \n",
       "3      0            113803  53.1000  C123        S  \n",
       "4      0            373450   8.0500   NaN        S  \n",
       "5      0            330877   8.4583   NaN        Q  \n",
       "6      0             17463  51.8625   E46        S  \n",
       "7      1            349909  21.0750   NaN        S  \n",
       "8      2            347742  11.1333   NaN        S  \n",
       "9      0            237736  30.0708   NaN        C  "
      ]
     },
     "execution_count": 5,
     "metadata": {},
     "output_type": "execute_result"
    }
   ],
   "source": [
    "train.head(10)"
   ]
  },
  {
   "cell_type": "markdown",
   "metadata": {
    "_cell_guid": "b7f83e22-555d-4d4f-beac-7dbc38b2ee16",
    "_uuid": "8842075e76806e0d41c2580cc7e32b6684e43f0a"
   },
   "source": [
    "我们将要进行的机器学习类型称为分类（classification），因为当我们进行预测时，我们将每个乘客分类为幸存或没有幸存。更具体地说，我们正在进行二分类（binary classification），这意味着我们只对两种不同的状态进行分类。\n",
    "\n",
    "在任何机器学习练习中，对所预测的主题进行思考都是非常重要的。我们称之为获取领域知识的步骤，它是机器学习成功的最重要的决定因素之一。\n",
    "\n",
    "在这种情况下，了解泰坦尼克号的灾难，特别是哪些变量可能影响生存的结果是非常重要的。任何看过电影《泰坦尼克号》的人都会记得，妇女和儿童比登上救生艇的优先级更高（就像他们在现实生活中一样）。你也会记得乘客之间巨大的阶级差异。\n",
    "\n",
    "这表明`Age`、`Sex`和`Pclass`可能是存活率的良好预测因子。我们将通过数据可视化来进行数据分析。\n",
    "\n",
    "因为幸存列包含0（如果乘客没有幸存）和1（如果乘客幸存），我们可以按性别分割数据并计算此列的平均值。我们可以使用`dataframe.pivot_table()`计算："
   ]
  },
  {
   "cell_type": "code",
   "execution_count": 6,
   "metadata": {
    "_cell_guid": "b30c2e05-cc81-41d6-b77e-2a4ea7eb5d24",
    "_uuid": "33177b28867de369917fc6a183cac2be576b0580"
   },
   "outputs": [
    {
     "data": {
      "image/png": "[encoded data removed]",
      "text/plain": [
       "<Figure size 432x288 with 1 Axes>"
      ]
     },
     "metadata": {
      "needs_background": "light"
     },
     "output_type": "display_data"
    }
   ],
   "source": [
    "import matplotlib.pyplot as plt\n",
    "\n",
    "sex_pivot = train.pivot_table(index=\"Sex\",values=\"Survived\")\n",
    "sex_pivot\n",
    "\n",
    "sex_pivot.plot.bar()\n",
    "plt.show()"
   ]
  },
  {
   "cell_type": "markdown",
   "metadata": {
    "_cell_guid": "e430584a-c0f9-48a7-b1b6-2cf908b877a4",
    "_uuid": "22e752af3e8d31c55af33600ec47da0e3113eaed"
   },
   "source": [
    "我们可以立即看到，女性存活的比例远远高于男性。\n",
    "\n",
    "我们也可以对 `Pclass` 列进行同样的计算。"
   ]
  },
  {
   "cell_type": "markdown",
   "metadata": {
    "_cell_guid": "8092753f-9131-47a6-b753-1b702b57b289",
    "_uuid": "a89f8dca61310761150c56a341e5dacdef8c2590"
   },
   "source": [
    "### 说明"
   ]
  },
  {
   "cell_type": "markdown",
   "metadata": {
    "_cell_guid": "cc62f888-ddd1-4ef0-96f2-7467768c83f3",
    "_uuid": "1d352c346ebdcf85420a8bc399019a1e36a3f646"
   },
   "source": [
    "* 使用 ```DataFrame.pivot_table()``` 对 ```train``` 进行数据透视处理:\n",
    "    * 使用 \"Pclass\" 作为索引参数。\n",
    "    * 使用 \"Survived\" 作为值。\n",
    "* 使用 ```DataFrame.plot.bar()``` 绘制数据透视表。"
   ]
  },
  {
   "cell_type": "code",
   "execution_count": 9,
   "metadata": {
    "_cell_guid": "a764ffaf-ce57-400a-bffe-37b35dbd1811",
    "_uuid": "cd3fc00d5b7d16629dd60202783d9bf7bb811a9d"
   },
   "outputs": [
    {
     "data": {
      "image/png": "[encoded data removed]",
      "text/plain": [
       "<Figure size 432x288 with 1 Axes>"
      ]
     },
     "metadata": {
      "needs_background": "light"
     },
     "output_type": "display_data"
    }
   ],
   "source": [
    "pclass_pivot = train.pivot_table(index=\"Pclass\",values=\"Survived\")\n",
    "# pclass_pivot\n",
    "pclass_pivot.plot.bar()\n",
    "plt.show()"
   ]
  },
  {
   "cell_type": "markdown",
   "metadata": {
    "_cell_guid": "d518c8fb-7834-4695-9965-ff7b5b52df85",
    "_uuid": "f0161b6e05e13e10eda2b11a014b8211e4982a2b"
   },
   "source": [
    "## 3. 探索和转换年龄列"
   ]
  },
  {
   "cell_type": "markdown",
   "metadata": {
    "_cell_guid": "effa13af-608d-473a-8ff5-cf2f84d5d4b7",
    "_uuid": "83ab7c68a988faa94db88831400b8e9b77f4fb6f"
   },
   "source": [
    "`Sex` 和 `Pclass` 列是我们称之为分类特征的列。这意味着这些值代表了几个独立的选项（例如，乘客是男性还是女性）。\n",
    "\n",
    "可以使用 [```Series.describe()```](http://pandas.pydata.org/pandas-docs/stable/generated/pandas.Series.describe.html)来显示数据："
   ]
  },
  {
   "cell_type": "code",
   "execution_count": 10,
   "metadata": {
    "_cell_guid": "b23178a4-cac6-41e6-b9d8-41082f001568",
    "_uuid": "fd39a213c2847f57bee05b7d55e1f23aea3a9686"
   },
   "outputs": [
    {
     "data": {
      "text/plain": [
       "count    714.000000\n",
       "mean      29.699118\n",
       "std       14.526497\n",
       "min        0.420000\n",
       "25%       20.125000\n",
       "50%       28.000000\n",
       "75%       38.000000\n",
       "max       80.000000\n",
       "Name: Age, dtype: float64"
      ]
     },
     "execution_count": 10,
     "metadata": {},
     "output_type": "execute_result"
    }
   ],
   "source": [
    "train['Age'].describe()"
   ]
  },
  {
   "cell_type": "markdown",
   "metadata": {
    "_cell_guid": "e1f13642-70a1-4e69-b4b1-f865cf72a393",
    "_uuid": "e13276a82d84ecb6920239e79e2a05e503d777e9"
   },
   "source": [
    "“年龄”列包含从0.42到80.0的数字（如果您查看Kaggle的数据页，它会告诉我们，如果乘客少于1岁，年龄是小数）。这里要注意的另一件事是，这个列中有714个值，比我们在本次任务之前发现的814行少，这表明我们有一些丢失的值。\n",
    "\n",
    "所有这些都意味着年龄列需要稍微区别对待，因为这是一个连续的数字列。查看连续数值集中值分布的一种方法是使用直方图。我们可以创建两个柱状图，直观地比较不同年龄段存活者与死亡者："
   ]
  },
  {
   "cell_type": "code",
   "execution_count": 11,
   "metadata": {
    "_cell_guid": "89c3da43-2d36-4210-973a-be337054e3cd",
    "_uuid": "0d486d20bf73c9d5aac33c9326ce4cf1c3896b8d"
   },
   "outputs": [
    {
     "data": {
      "text/html": [
       "<div>\n",
       "<style scoped>\n",
       "    .dataframe tbody tr th:only-of-type {\n",
       "        vertical-align: middle;\n",
       "    }\n",
       "\n",
       "    .dataframe tbody tr th {\n",
       "        vertical-align: top;\n",
       "    }\n",
       "\n",
       "    .dataframe thead th {\n",
       "        text-align: right;\n",
       "    }\n",
       "</style>\n",
       "<table border=\"1\" class=\"dataframe\">\n",
       "  <thead>\n",
       "    <tr style=\"text-align: right;\">\n",
       "      <th></th>\n",
       "      <th>PassengerId</th>\n",
       "      <th>Survived</th>\n",
       "      <th>Pclass</th>\n",
       "      <th>Name</th>\n",
       "      <th>Sex</th>\n",
       "      <th>Age</th>\n",
       "      <th>SibSp</th>\n",
       "      <th>Parch</th>\n",
       "      <th>Ticket</th>\n",
       "      <th>Fare</th>\n",
       "      <th>Cabin</th>\n",
       "      <th>Embarked</th>\n",
       "    </tr>\n",
       "  </thead>\n",
       "  <tbody>\n",
       "    <tr>\n",
       "      <td>1</td>\n",
       "      <td>2</td>\n",
       "      <td>1</td>\n",
       "      <td>1</td>\n",
       "      <td>Cumings, Mrs. John Bradley (Florence Briggs Th...</td>\n",
       "      <td>female</td>\n",
       "      <td>38.0</td>\n",
       "      <td>1</td>\n",
       "      <td>0</td>\n",
       "      <td>PC 17599</td>\n",
       "      <td>71.2833</td>\n",
       "      <td>C85</td>\n",
       "      <td>C</td>\n",
       "    </tr>\n",
       "    <tr>\n",
       "      <td>2</td>\n",
       "      <td>3</td>\n",
       "      <td>1</td>\n",
       "      <td>3</td>\n",
       "      <td>Heikkinen, Miss. Laina</td>\n",
       "      <td>female</td>\n",
       "      <td>26.0</td>\n",
       "      <td>0</td>\n",
       "      <td>0</td>\n",
       "      <td>STON/O2. 3101282</td>\n",
       "      <td>7.9250</td>\n",
       "      <td>NaN</td>\n",
       "      <td>S</td>\n",
       "    </tr>\n",
       "    <tr>\n",
       "      <td>3</td>\n",
       "      <td>4</td>\n",
       "      <td>1</td>\n",
       "      <td>1</td>\n",
       "      <td>Futrelle, Mrs. Jacques Heath (Lily May Peel)</td>\n",
       "      <td>female</td>\n",
       "      <td>35.0</td>\n",
       "      <td>1</td>\n",
       "      <td>0</td>\n",
       "      <td>113803</td>\n",
       "      <td>53.1000</td>\n",
       "      <td>C123</td>\n",
       "      <td>S</td>\n",
       "    </tr>\n",
       "    <tr>\n",
       "      <td>8</td>\n",
       "      <td>9</td>\n",
       "      <td>1</td>\n",
       "      <td>3</td>\n",
       "      <td>Johnson, Mrs. Oscar W (Elisabeth Vilhelmina Berg)</td>\n",
       "      <td>female</td>\n",
       "      <td>27.0</td>\n",
       "      <td>0</td>\n",
       "      <td>2</td>\n",
       "      <td>347742</td>\n",
       "      <td>11.1333</td>\n",
       "      <td>NaN</td>\n",
       "      <td>S</td>\n",
       "    </tr>\n",
       "    <tr>\n",
       "      <td>9</td>\n",
       "      <td>10</td>\n",
       "      <td>1</td>\n",
       "      <td>2</td>\n",
       "      <td>Nasser, Mrs. Nicholas (Adele Achem)</td>\n",
       "      <td>female</td>\n",
       "      <td>14.0</td>\n",
       "      <td>1</td>\n",
       "      <td>0</td>\n",
       "      <td>237736</td>\n",
       "      <td>30.0708</td>\n",
       "      <td>NaN</td>\n",
       "      <td>C</td>\n",
       "    </tr>\n",
       "    <tr>\n",
       "      <td>...</td>\n",
       "      <td>...</td>\n",
       "      <td>...</td>\n",
       "      <td>...</td>\n",
       "      <td>...</td>\n",
       "      <td>...</td>\n",
       "      <td>...</td>\n",
       "      <td>...</td>\n",
       "      <td>...</td>\n",
       "      <td>...</td>\n",
       "      <td>...</td>\n",
       "      <td>...</td>\n",
       "      <td>...</td>\n",
       "    </tr>\n",
       "    <tr>\n",
       "      <td>875</td>\n",
       "      <td>876</td>\n",
       "      <td>1</td>\n",
       "      <td>3</td>\n",
       "      <td>Najib, Miss. Adele Kiamie \"Jane\"</td>\n",
       "      <td>female</td>\n",
       "      <td>15.0</td>\n",
       "      <td>0</td>\n",
       "      <td>0</td>\n",
       "      <td>2667</td>\n",
       "      <td>7.2250</td>\n",
       "      <td>NaN</td>\n",
       "      <td>C</td>\n",
       "    </tr>\n",
       "    <tr>\n",
       "      <td>879</td>\n",
       "      <td>880</td>\n",
       "      <td>1</td>\n",
       "      <td>1</td>\n",
       "      <td>Potter, Mrs. Thomas Jr (Lily Alexenia Wilson)</td>\n",
       "      <td>female</td>\n",
       "      <td>56.0</td>\n",
       "      <td>0</td>\n",
       "      <td>1</td>\n",
       "      <td>11767</td>\n",
       "      <td>83.1583</td>\n",
       "      <td>C50</td>\n",
       "      <td>C</td>\n",
       "    </tr>\n",
       "    <tr>\n",
       "      <td>880</td>\n",
       "      <td>881</td>\n",
       "      <td>1</td>\n",
       "      <td>2</td>\n",
       "      <td>Shelley, Mrs. William (Imanita Parrish Hall)</td>\n",
       "      <td>female</td>\n",
       "      <td>25.0</td>\n",
       "      <td>0</td>\n",
       "      <td>1</td>\n",
       "      <td>230433</td>\n",
       "      <td>26.0000</td>\n",
       "      <td>NaN</td>\n",
       "      <td>S</td>\n",
       "    </tr>\n",
       "    <tr>\n",
       "      <td>887</td>\n",
       "      <td>888</td>\n",
       "      <td>1</td>\n",
       "      <td>1</td>\n",
       "      <td>Graham, Miss. Margaret Edith</td>\n",
       "      <td>female</td>\n",
       "      <td>19.0</td>\n",
       "      <td>0</td>\n",
       "      <td>0</td>\n",
       "      <td>112053</td>\n",
       "      <td>30.0000</td>\n",
       "      <td>B42</td>\n",
       "      <td>S</td>\n",
       "    </tr>\n",
       "    <tr>\n",
       "      <td>889</td>\n",
       "      <td>890</td>\n",
       "      <td>1</td>\n",
       "      <td>1</td>\n",
       "      <td>Behr, Mr. Karl Howell</td>\n",
       "      <td>male</td>\n",
       "      <td>26.0</td>\n",
       "      <td>0</td>\n",
       "      <td>0</td>\n",
       "      <td>111369</td>\n",
       "      <td>30.0000</td>\n",
       "      <td>C148</td>\n",
       "      <td>C</td>\n",
       "    </tr>\n",
       "  </tbody>\n",
       "</table>\n",
       "<p>342 rows × 12 columns</p>\n",
       "</div>"
      ],
      "text/plain": [
       "     PassengerId  Survived  Pclass  \\\n",
       "1              2         1       1   \n",
       "2              3         1       3   \n",
       "3              4         1       1   \n",
       "8              9         1       3   \n",
       "9             10         1       2   \n",
       "..           ...       ...     ...   \n",
       "875          876         1       3   \n",
       "879          880         1       1   \n",
       "880          881         1       2   \n",
       "887          888         1       1   \n",
       "889          890         1       1   \n",
       "\n",
       "                                                  Name     Sex   Age  SibSp  \\\n",
       "1    Cumings, Mrs. John Bradley (Florence Briggs Th...  female  38.0      1   \n",
       "2                               Heikkinen, Miss. Laina  female  26.0      0   \n",
       "3         Futrelle, Mrs. Jacques Heath (Lily May Peel)  female  35.0      1   \n",
       "8    Johnson, Mrs. Oscar W (Elisabeth Vilhelmina Berg)  female  27.0      0   \n",
       "9                  Nasser, Mrs. Nicholas (Adele Achem)  female  14.0      1   \n",
       "..                                                 ...     ...   ...    ...   \n",
       "875                   Najib, Miss. Adele Kiamie \"Jane\"  female  15.0      0   \n",
       "879      Potter, Mrs. Thomas Jr (Lily Alexenia Wilson)  female  56.0      0   \n",
       "880       Shelley, Mrs. William (Imanita Parrish Hall)  female  25.0      0   \n",
       "887                       Graham, Miss. Margaret Edith  female  19.0      0   \n",
       "889                              Behr, Mr. Karl Howell    male  26.0      0   \n",
       "\n",
       "     Parch            Ticket     Fare Cabin Embarked  \n",
       "1        0          PC 17599  71.2833   C85        C  \n",
       "2        0  STON/O2. 3101282   7.9250   NaN        S  \n",
       "3        0            113803  53.1000  C123        S  \n",
       "8        2            347742  11.1333   NaN        S  \n",
       "9        0            237736  30.0708   NaN        C  \n",
       "..     ...               ...      ...   ...      ...  \n",
       "875      0              2667   7.2250   NaN        C  \n",
       "879      1             11767  83.1583   C50        C  \n",
       "880      1            230433  26.0000   NaN        S  \n",
       "887      0            112053  30.0000   B42        S  \n",
       "889      0            111369  30.0000  C148        C  \n",
       "\n",
       "[342 rows x 12 columns]"
      ]
     },
     "execution_count": 11,
     "metadata": {},
     "output_type": "execute_result"
    }
   ],
   "source": [
    "train[train[\"Survived\"] == 1]"
   ]
  },
  {
   "cell_type": "code",
   "execution_count": 12,
   "metadata": {
    "_cell_guid": "9c4f5e45-60b0-4e65-861a-d6dd61e60dc0",
    "_uuid": "3e43be953fbedf46a783228d461f396327e7bdde"
   },
   "outputs": [
    {
     "data": {
      "image/png": "[encoded data removed]",
      "text/plain": [
       "<Figure size 432x288 with 1 Axes>"
      ]
     },
     "metadata": {
      "needs_background": "light"
     },
     "output_type": "display_data"
    }
   ],
   "source": [
    "survived = train[train[\"Survived\"] == 1]\n",
    "died = train[train[\"Survived\"] == 0]\n",
    "survived[\"Age\"].plot.hist(alpha=0.5,color='red',bins=50)\n",
    "died[\"Age\"].plot.hist(alpha=0.5,color='blue',bins=50)\n",
    "plt.legend(['Survived','Died'])\n",
    "plt.show()"
   ]
  },
  {
   "cell_type": "markdown",
   "metadata": {
    "_cell_guid": "6d56b478-b85a-4650-9447-d9f7f6918156",
    "_uuid": "3d3eaa464c3bd85bbda4e5b044a8f18135d832b3"
   },
   "source": [
    "这里的关系并不简单，但我们可以看到，在某些年龄段，存活下来的乘客更多——红色条比蓝色条高。\n",
    "\n",
    "为了使这对我们的机器学习模型有用，我们可以通过将这个连续的特征划分为一个范围来将其分为一个类别特征。我们可以使用 ```pandas.cut()``` 函数来帮助我们。\n",
    "\n",
    "```pandas.cut()``` 函数有两个必需的参数—我们要剪切的列和定义剪切边界的数字列表。我们还将使用可选的参数标签，它为生成的容器获取一个标签列表。这将使我们更容易理解我们的结果。\n",
    "\n",
    "在修改该列之前，我们必须注意两件事。首先，我们对训练数据的任何更改，我们也需要对测试数据进同样行更改，否则我们将无法使用我们的模型对提交的数据进行预测。其次，我们需要记住处理上面观察到的缺失值。"
   ]
  },
  {
   "cell_type": "markdown",
   "metadata": {
    "_cell_guid": "d511e1d3-7d29-4d9a-b62c-7bd11824de8f",
    "_uuid": "f3bb2a1814f8d52bcaee28b15be1f1f81376821f"
   },
   "source": [
    "我们同时对 ```train``` 和 ```test``` 数据帧（dataframes）进行处理。\n",
    "\n",
    "```python\n",
    "def process_age(df,cut_points,label_names):\n",
    "    df[\"Age\"] = df[\"Age\"].fillna(-0.5)\n",
    "    df[\"Age_categories\"] = pd.cut(df[\"Age\"],cut_points,labels=label_names)\n",
    "    return df\n",
    "\n",
    "cut_points = [-1,0,18,100]\n",
    "label_names = [\"Missing\",\"Child\",\"Adult\"]\n",
    "\n",
    "train = process_age(train,cut_points,label_names)\n",
    "test = process_age(test,cut_points,label_names)\n",
    "```\n",
    "\n",
    "下图显示了该函数如何转换数据："
   ]
  },
  {
   "cell_type": "markdown",
   "metadata": {
    "_cell_guid": "65cc7138-2ae2-4b2d-821e-3e6d692f3e27",
    "_uuid": "bc820399897f31efbede3e84575647de985b0861"
   },
   "source": [
    "![](https://s3.amazonaws.com/dq-content/185/cut.svg)\n",
    "\n",
    "请注意，`cut_points` 列表比 `label_names` 列表多了一个元素，因为它需要定义最后一个分段的上边界。"
   ]
  },
  {
   "cell_type": "markdown",
   "metadata": {
    "_cell_guid": "4ac20db3-1921-4fcb-bdb5-e82c1878b55a",
    "_uuid": "67607830b87ed28ddb97ba967bd4774ebba675bc"
   },
   "source": [
    "### 说明"
   ]
  },
  {
   "cell_type": "markdown",
   "metadata": {
    "_cell_guid": "53b2e5e5-239a-4d7a-856d-754d6ea04d77",
    "_uuid": "54eaf5474e1ba358d799f7eb4304ec587be3f54c"
   },
   "source": [
    "* 创建 ```cut_points``` 和 ```label_names``` 列表将 ```Age``` 列划分为6个类别：\n",
    "    * Missing, 从 -1 到 0\n",
    "    * Infant, 从 0 到 5\n",
    "    * Child, 从 5 到 12\n",
    "    * Teenager, 从 12 到 18\n",
    "    * Young Adult, 从 18 到 35\n",
    "    * Adult, 从 35 到 60\n",
    "    * Senior, 从 60 到 100\n",
    "* 将 ```process_age()``` 函数运用到训练数据帧, 将结果赋给 `train`。\n",
    "* 将 ```process_age()``` 函数运用到测试数据帧, 将结果赋给 `test`。\n",
    "* 使用 ```DataFrame.pivot_table()``` 基于 `Age_categories` 列对训练数据帧对透视表。\n",
    "* 使用 ```DataFrame.plot.bar()``` 绘制数据透视表。"
   ]
  },
  {
   "cell_type": "code",
   "execution_count": 12,
   "metadata": {
    "_cell_guid": "821160e2-d137-4762-ad1d-d8eaca6d4226",
    "_uuid": "4714bfb7d4b14c0ecf3c066eb063ac38f8a8ced2"
   },
   "outputs": [
    {
     "name": "stdout",
     "output_type": "stream",
     "text": [
      "<class 'pandas.core.frame.DataFrame'>\n",
      "<class 'pandas.core.frame.DataFrame'>\n"
     ]
    },
    {
     "data": {
      "image/png": "[encoded data removed]",
      "text/plain": [
       "<Figure size 432x288 with 1 Axes>"
      ]
     },
     "metadata": {
      "needs_background": "light"
     },
     "output_type": "display_data"
    }
   ],
   "source": [
    "def process_age(df,cut_points,label_names):\n",
    "    df[\"Age\"] = df[\"Age\"].fillna(-0.5)\n",
    "    df[\"Age_categories\"] = pd.cut(df[\"Age\"],cut_points,labels=label_names)\n",
    "    return df\n",
    "\n",
    "cut_points = [-1,0, 5, 12, 18, 35, 60, 100]\n",
    "label_names = [\"Missing\", 'Infant', \"Child\", 'Teenager', \"Young Adult\", 'Adult', 'Senior']\n",
    "\n",
    "train = process_age(train,cut_points,label_names)\n",
    "print(type(train))\n",
    "test = process_age(test,cut_points,label_names)\n",
    "print(type(test))\n",
    "\n",
    "age_cat_pivot = train.pivot_table(index=\"Age_categories\",values=\"Survived\")\n",
    "age_cat_pivot.plot.bar()\n",
    "plt.show()"
   ]
  },
  {
   "cell_type": "markdown",
   "metadata": {
    "_cell_guid": "c6465ea0-7181-4997-90fa-47faf06f9b67",
    "_uuid": "aa19941e7c41ef975aa7f5e5aee4b6f12899d194"
   },
   "source": [
    "## 4. 为机器学习准备数据"
   ]
  },
  {
   "cell_type": "markdown",
   "metadata": {
    "_cell_guid": "5b8caca5-ec4c-4141-886e-3ca1c3d1f1ef",
    "_uuid": "7a3700ec89b216f737c6f59e6c15bf38067b3920"
   },
   "source": [
    "到目前为止，我们已经确定了三个可能有助于预测存活率的列：\n",
    "\n",
    "* Sex\n",
    "* Pclass\n",
    "* Age/Age_categories\n",
    "\n",
    "在我们建立模型之前，我们需要为机器学习准备这些数据列。大多数机器学习算法无法理解文本标签，因此我们必须将文本值转换为数字。"
   ]
  },
  {
   "cell_type": "code",
   "execution_count": 16,
   "metadata": {
    "_cell_guid": "0e4e10f2-5d73-40b2-a56d-2e1ce2bd9c83",
    "_uuid": "8927831d595abcdae6888f5f928269b9b7e8d5b2"
   },
   "outputs": [
    {
     "data": {
      "text/plain": [
       "3    491\n",
       "1    216\n",
       "2    184\n",
       "Name: Pclass, dtype: int64"
      ]
     },
     "execution_count": 16,
     "metadata": {},
     "output_type": "execute_result"
    }
   ],
   "source": [
    "train['Pclass'].value_counts()"
   ]
  },
  {
   "cell_type": "markdown",
   "metadata": {
    "_cell_guid": "63be9240-5fad-499e-8954-21a02957c004",
    "_uuid": "58f07635d8b9aabf6d3f2142897f02bc1fa53a92"
   },
   "source": [
    "虽然每个乘客的等级之间确实存在某种有序关系，但每个等级之间的关系与数字1、2和3之间的关系并不相同。例如，类2的“价值”不是类1的两倍，类3的“价值”不是类1的三倍。\n",
    "\n",
    "为了删除此关系，我们可以为 `pClass` 中的每个唯一值创建虚拟列："
   ]
  },
  {
   "cell_type": "markdown",
   "metadata": {
    "_cell_guid": "93161299-8b20-4a28-9b7f-69bba43e4372",
    "_uuid": "85590957e0088a433152eea223c504453c1eccfb"
   },
   "source": [
    "![](https://s3.amazonaws.com/dq-content/185/kaggle_get_dummies.svg)"
   ]
  },
  {
   "cell_type": "markdown",
   "metadata": {
    "_cell_guid": "942fa204-1d6b-4b57-abe9-48452535f391",
    "_uuid": "472f80281232c20ad1ff6ee55bb49e15f3bfea34"
   },
   "source": [
    "让我们使用该函数为 `Sex` 和 `Age_categories` 类别列创建虚拟列。"
   ]
  },
  {
   "cell_type": "markdown",
   "metadata": {
    "_cell_guid": "46470179-3fa6-4d12-8040-854536e4daa3",
    "_uuid": "c2df68e1ba2bec5286720ca7b68b61c5f216dbc5"
   },
   "source": [
    "### 说明\n",
    "\n",
    "* 使用 `create_dummies()` 函数为 `Sex` 列创建虚拟变量（dummy variables）：\n",
    "    * 在训练数据帧中\n",
    "    * 在测试数据帧中\n",
    "* 使用 `create_dummies()` 函数为 `Age_categories` 列创建虚拟变量（dummy variables）：\n",
    "    * 在训练数据帧中\n",
    "    * 在测试数据帧中"
   ]
  },
  {
   "cell_type": "code",
   "execution_count": 14,
   "metadata": {
    "_cell_guid": "58ad174a-0ff6-4000-9d8d-5ab49d8eac4d",
    "_uuid": "93cef9c39b1cd922d1977c7ee353690fd113b279"
   },
   "outputs": [
    {
     "data": {
      "text/html": [
       "<div>\n",
       "<style scoped>\n",
       "    .dataframe tbody tr th:only-of-type {\n",
       "        vertical-align: middle;\n",
       "    }\n",
       "\n",
       "    .dataframe tbody tr th {\n",
       "        vertical-align: top;\n",
       "    }\n",
       "\n",
       "    .dataframe thead th {\n",
       "        text-align: right;\n",
       "    }\n",
       "</style>\n",
       "<table border=\"1\" class=\"dataframe\">\n",
       "  <thead>\n",
       "    <tr style=\"text-align: right;\">\n",
       "      <th></th>\n",
       "      <th>Pclass_1</th>\n",
       "      <th>Pclass_2</th>\n",
       "      <th>Pclass_3</th>\n",
       "    </tr>\n",
       "  </thead>\n",
       "  <tbody>\n",
       "    <tr>\n",
       "      <td>0</td>\n",
       "      <td>0</td>\n",
       "      <td>0</td>\n",
       "      <td>1</td>\n",
       "    </tr>\n",
       "    <tr>\n",
       "      <td>1</td>\n",
       "      <td>1</td>\n",
       "      <td>0</td>\n",
       "      <td>0</td>\n",
       "    </tr>\n",
       "    <tr>\n",
       "      <td>2</td>\n",
       "      <td>0</td>\n",
       "      <td>0</td>\n",
       "      <td>1</td>\n",
       "    </tr>\n",
       "    <tr>\n",
       "      <td>3</td>\n",
       "      <td>1</td>\n",
       "      <td>0</td>\n",
       "      <td>0</td>\n",
       "    </tr>\n",
       "    <tr>\n",
       "      <td>4</td>\n",
       "      <td>0</td>\n",
       "      <td>0</td>\n",
       "      <td>1</td>\n",
       "    </tr>\n",
       "  </tbody>\n",
       "</table>\n",
       "</div>"
      ],
      "text/plain": [
       "   Pclass_1  Pclass_2  Pclass_3\n",
       "0         0         0         1\n",
       "1         1         0         0\n",
       "2         0         0         1\n",
       "3         1         0         0\n",
       "4         0         0         1"
      ]
     },
     "execution_count": 14,
     "metadata": {},
     "output_type": "execute_result"
    }
   ],
   "source": [
    "column_name = \"Pclass\"\n",
    "df = train\n",
    "dummies = pd.get_dummies(df[column_name],prefix=column_name)\n",
    "dummies.head()"
   ]
  },
  {
   "cell_type": "code",
   "execution_count": 16,
   "metadata": {
    "_cell_guid": "b1bf5db1-aa0c-4a1d-9e1b-9a2ca1b51de5",
    "_uuid": "1e5cc217df58d21b02fdbda9fad4c377e339173c"
   },
   "outputs": [
    {
     "data": {
      "text/html": [
       "<div>\n",
       "<style scoped>\n",
       "    .dataframe tbody tr th:only-of-type {\n",
       "        vertical-align: middle;\n",
       "    }\n",
       "\n",
       "    .dataframe tbody tr th {\n",
       "        vertical-align: top;\n",
       "    }\n",
       "\n",
       "    .dataframe thead th {\n",
       "        text-align: right;\n",
       "    }\n",
       "</style>\n",
       "<table border=\"1\" class=\"dataframe\">\n",
       "  <thead>\n",
       "    <tr style=\"text-align: right;\">\n",
       "      <th></th>\n",
       "      <th>PassengerId</th>\n",
       "      <th>Survived</th>\n",
       "      <th>Pclass</th>\n",
       "      <th>Name</th>\n",
       "      <th>Sex</th>\n",
       "      <th>Age</th>\n",
       "      <th>SibSp</th>\n",
       "      <th>Parch</th>\n",
       "      <th>Ticket</th>\n",
       "      <th>Fare</th>\n",
       "      <th>Cabin</th>\n",
       "      <th>Embarked</th>\n",
       "      <th>Age_categories</th>\n",
       "      <th>Pclass_1</th>\n",
       "      <th>Pclass_2</th>\n",
       "      <th>Pclass_3</th>\n",
       "      <th>Pclass_1</th>\n",
       "      <th>Pclass_2</th>\n",
       "      <th>Pclass_3</th>\n",
       "    </tr>\n",
       "  </thead>\n",
       "  <tbody>\n",
       "    <tr>\n",
       "      <td>0</td>\n",
       "      <td>1</td>\n",
       "      <td>0</td>\n",
       "      <td>3</td>\n",
       "      <td>Braund, Mr. Owen Harris</td>\n",
       "      <td>male</td>\n",
       "      <td>22.0</td>\n",
       "      <td>1</td>\n",
       "      <td>0</td>\n",
       "      <td>A/5 21171</td>\n",
       "      <td>7.2500</td>\n",
       "      <td>NaN</td>\n",
       "      <td>S</td>\n",
       "      <td>Young Adult</td>\n",
       "      <td>0</td>\n",
       "      <td>0</td>\n",
       "      <td>1</td>\n",
       "      <td>0</td>\n",
       "      <td>0</td>\n",
       "      <td>1</td>\n",
       "    </tr>\n",
       "    <tr>\n",
       "      <td>1</td>\n",
       "      <td>2</td>\n",
       "      <td>1</td>\n",
       "      <td>1</td>\n",
       "      <td>Cumings, Mrs. John Bradley (Florence Briggs Th...</td>\n",
       "      <td>female</td>\n",
       "      <td>38.0</td>\n",
       "      <td>1</td>\n",
       "      <td>0</td>\n",
       "      <td>PC 17599</td>\n",
       "      <td>71.2833</td>\n",
       "      <td>C85</td>\n",
       "      <td>C</td>\n",
       "      <td>Adult</td>\n",
       "      <td>1</td>\n",
       "      <td>0</td>\n",
       "      <td>0</td>\n",
       "      <td>1</td>\n",
       "      <td>0</td>\n",
       "      <td>0</td>\n",
       "    </tr>\n",
       "    <tr>\n",
       "      <td>2</td>\n",
       "      <td>3</td>\n",
       "      <td>1</td>\n",
       "      <td>3</td>\n",
       "      <td>Heikkinen, Miss. Laina</td>\n",
       "      <td>female</td>\n",
       "      <td>26.0</td>\n",
       "      <td>0</td>\n",
       "      <td>0</td>\n",
       "      <td>STON/O2. 3101282</td>\n",
       "      <td>7.9250</td>\n",
       "      <td>NaN</td>\n",
       "      <td>S</td>\n",
       "      <td>Young Adult</td>\n",
       "      <td>0</td>\n",
       "      <td>0</td>\n",
       "      <td>1</td>\n",
       "      <td>0</td>\n",
       "      <td>0</td>\n",
       "      <td>1</td>\n",
       "    </tr>\n",
       "    <tr>\n",
       "      <td>3</td>\n",
       "      <td>4</td>\n",
       "      <td>1</td>\n",
       "      <td>1</td>\n",
       "      <td>Futrelle, Mrs. Jacques Heath (Lily May Peel)</td>\n",
       "      <td>female</td>\n",
       "      <td>35.0</td>\n",
       "      <td>1</td>\n",
       "      <td>0</td>\n",
       "      <td>113803</td>\n",
       "      <td>53.1000</td>\n",
       "      <td>C123</td>\n",
       "      <td>S</td>\n",
       "      <td>Young Adult</td>\n",
       "      <td>1</td>\n",
       "      <td>0</td>\n",
       "      <td>0</td>\n",
       "      <td>1</td>\n",
       "      <td>0</td>\n",
       "      <td>0</td>\n",
       "    </tr>\n",
       "    <tr>\n",
       "      <td>4</td>\n",
       "      <td>5</td>\n",
       "      <td>0</td>\n",
       "      <td>3</td>\n",
       "      <td>Allen, Mr. William Henry</td>\n",
       "      <td>male</td>\n",
       "      <td>35.0</td>\n",
       "      <td>0</td>\n",
       "      <td>0</td>\n",
       "      <td>373450</td>\n",
       "      <td>8.0500</td>\n",
       "      <td>NaN</td>\n",
       "      <td>S</td>\n",
       "      <td>Young Adult</td>\n",
       "      <td>0</td>\n",
       "      <td>0</td>\n",
       "      <td>1</td>\n",
       "      <td>0</td>\n",
       "      <td>0</td>\n",
       "      <td>1</td>\n",
       "    </tr>\n",
       "  </tbody>\n",
       "</table>\n",
       "</div>"
      ],
      "text/plain": [
       "   PassengerId  Survived  Pclass  \\\n",
       "0            1         0       3   \n",
       "1            2         1       1   \n",
       "2            3         1       3   \n",
       "3            4         1       1   \n",
       "4            5         0       3   \n",
       "\n",
       "                                                Name     Sex   Age  SibSp  \\\n",
       "0                            Braund, Mr. Owen Harris    male  22.0      1   \n",
       "1  Cumings, Mrs. John Bradley (Florence Briggs Th...  female  38.0      1   \n",
       "2                             Heikkinen, Miss. Laina  female  26.0      0   \n",
       "3       Futrelle, Mrs. Jacques Heath (Lily May Peel)  female  35.0      1   \n",
       "4                           Allen, Mr. William Henry    male  35.0      0   \n",
       "\n",
       "   Parch            Ticket     Fare Cabin Embarked Age_categories  Pclass_1  \\\n",
       "0      0         A/5 21171   7.2500   NaN        S    Young Adult         0   \n",
       "1      0          PC 17599  71.2833   C85        C          Adult         1   \n",
       "2      0  STON/O2. 3101282   7.9250   NaN        S    Young Adult         0   \n",
       "3      0            113803  53.1000  C123        S    Young Adult         1   \n",
       "4      0            373450   8.0500   NaN        S    Young Adult         0   \n",
       "\n",
       "   Pclass_2  Pclass_3  Pclass_1  Pclass_2  Pclass_3  \n",
       "0         0         1         0         0         1  \n",
       "1         0         0         1         0         0  \n",
       "2         0         1         0         0         1  \n",
       "3         0         0         1         0         0  \n",
       "4         0         1         0         0         1  "
      ]
     },
     "execution_count": 16,
     "metadata": {},
     "output_type": "execute_result"
    }
   ],
   "source": [
    "def create_dummies(df,column_name):\n",
    "    dummies = pd.get_dummies(df[column_name],prefix=column_name)\n",
    "    df = pd.concat([df,dummies],axis=1)\n",
    "    return df\n",
    "\n",
    "train = create_dummies(train,\"Pclass\")\n",
    "test = create_dummies(test,\"Pclass\")\n",
    "train.head()"
   ]
  },
  {
   "cell_type": "code",
   "execution_count": 17,
   "metadata": {
    "_cell_guid": "51a9e34c-095a-489c-a3b9-d799a8699fc2",
    "_uuid": "f64bee8b698ed4c954fee6e6acfaac5525c0ad4e"
   },
   "outputs": [],
   "source": [
    "train = create_dummies(train,\"Sex\")\n",
    "test = create_dummies(test,\"Sex\")\n",
    "train = create_dummies(train,\"Age_categories\")\n",
    "test = create_dummies(test,\"Age_categories\")"
   ]
  },
  {
   "cell_type": "code",
   "execution_count": 18,
   "metadata": {
    "_cell_guid": "1788dd94-8202-4d52-ac62-d57f2e8754d7",
    "_uuid": "8f25bf63c69b487290851a2de45c4b8c62a04bb2"
   },
   "outputs": [
    {
     "data": {
      "text/html": [
       "<div>\n",
       "<style scoped>\n",
       "    .dataframe tbody tr th:only-of-type {\n",
       "        vertical-align: middle;\n",
       "    }\n",
       "\n",
       "    .dataframe tbody tr th {\n",
       "        vertical-align: top;\n",
       "    }\n",
       "\n",
       "    .dataframe thead th {\n",
       "        text-align: right;\n",
       "    }\n",
       "</style>\n",
       "<table border=\"1\" class=\"dataframe\">\n",
       "  <thead>\n",
       "    <tr style=\"text-align: right;\">\n",
       "      <th></th>\n",
       "      <th>PassengerId</th>\n",
       "      <th>Survived</th>\n",
       "      <th>Pclass</th>\n",
       "      <th>Name</th>\n",
       "      <th>Sex</th>\n",
       "      <th>Age</th>\n",
       "      <th>SibSp</th>\n",
       "      <th>Parch</th>\n",
       "      <th>Ticket</th>\n",
       "      <th>Fare</th>\n",
       "      <th>...</th>\n",
       "      <th>Pclass_3</th>\n",
       "      <th>Sex_female</th>\n",
       "      <th>Sex_male</th>\n",
       "      <th>Age_categories_Missing</th>\n",
       "      <th>Age_categories_Infant</th>\n",
       "      <th>Age_categories_Child</th>\n",
       "      <th>Age_categories_Teenager</th>\n",
       "      <th>Age_categories_Young Adult</th>\n",
       "      <th>Age_categories_Adult</th>\n",
       "      <th>Age_categories_Senior</th>\n",
       "    </tr>\n",
       "  </thead>\n",
       "  <tbody>\n",
       "    <tr>\n",
       "      <td>0</td>\n",
       "      <td>1</td>\n",
       "      <td>0</td>\n",
       "      <td>3</td>\n",
       "      <td>Braund, Mr. Owen Harris</td>\n",
       "      <td>male</td>\n",
       "      <td>22.0</td>\n",
       "      <td>1</td>\n",
       "      <td>0</td>\n",
       "      <td>A/5 21171</td>\n",
       "      <td>7.2500</td>\n",
       "      <td>...</td>\n",
       "      <td>1</td>\n",
       "      <td>0</td>\n",
       "      <td>1</td>\n",
       "      <td>0</td>\n",
       "      <td>0</td>\n",
       "      <td>0</td>\n",
       "      <td>0</td>\n",
       "      <td>1</td>\n",
       "      <td>0</td>\n",
       "      <td>0</td>\n",
       "    </tr>\n",
       "    <tr>\n",
       "      <td>1</td>\n",
       "      <td>2</td>\n",
       "      <td>1</td>\n",
       "      <td>1</td>\n",
       "      <td>Cumings, Mrs. John Bradley (Florence Briggs Th...</td>\n",
       "      <td>female</td>\n",
       "      <td>38.0</td>\n",
       "      <td>1</td>\n",
       "      <td>0</td>\n",
       "      <td>PC 17599</td>\n",
       "      <td>71.2833</td>\n",
       "      <td>...</td>\n",
       "      <td>0</td>\n",
       "      <td>1</td>\n",
       "      <td>0</td>\n",
       "      <td>0</td>\n",
       "      <td>0</td>\n",
       "      <td>0</td>\n",
       "      <td>0</td>\n",
       "      <td>0</td>\n",
       "      <td>1</td>\n",
       "      <td>0</td>\n",
       "    </tr>\n",
       "    <tr>\n",
       "      <td>2</td>\n",
       "      <td>3</td>\n",
       "      <td>1</td>\n",
       "      <td>3</td>\n",
       "      <td>Heikkinen, Miss. Laina</td>\n",
       "      <td>female</td>\n",
       "      <td>26.0</td>\n",
       "      <td>0</td>\n",
       "      <td>0</td>\n",
       "      <td>STON/O2. 3101282</td>\n",
       "      <td>7.9250</td>\n",
       "      <td>...</td>\n",
       "      <td>1</td>\n",
       "      <td>1</td>\n",
       "      <td>0</td>\n",
       "      <td>0</td>\n",
       "      <td>0</td>\n",
       "      <td>0</td>\n",
       "      <td>0</td>\n",
       "      <td>1</td>\n",
       "      <td>0</td>\n",
       "      <td>0</td>\n",
       "    </tr>\n",
       "    <tr>\n",
       "      <td>3</td>\n",
       "      <td>4</td>\n",
       "      <td>1</td>\n",
       "      <td>1</td>\n",
       "      <td>Futrelle, Mrs. Jacques Heath (Lily May Peel)</td>\n",
       "      <td>female</td>\n",
       "      <td>35.0</td>\n",
       "      <td>1</td>\n",
       "      <td>0</td>\n",
       "      <td>113803</td>\n",
       "      <td>53.1000</td>\n",
       "      <td>...</td>\n",
       "      <td>0</td>\n",
       "      <td>1</td>\n",
       "      <td>0</td>\n",
       "      <td>0</td>\n",
       "      <td>0</td>\n",
       "      <td>0</td>\n",
       "      <td>0</td>\n",
       "      <td>1</td>\n",
       "      <td>0</td>\n",
       "      <td>0</td>\n",
       "    </tr>\n",
       "    <tr>\n",
       "      <td>4</td>\n",
       "      <td>5</td>\n",
       "      <td>0</td>\n",
       "      <td>3</td>\n",
       "      <td>Allen, Mr. William Henry</td>\n",
       "      <td>male</td>\n",
       "      <td>35.0</td>\n",
       "      <td>0</td>\n",
       "      <td>0</td>\n",
       "      <td>373450</td>\n",
       "      <td>8.0500</td>\n",
       "      <td>...</td>\n",
       "      <td>1</td>\n",
       "      <td>0</td>\n",
       "      <td>1</td>\n",
       "      <td>0</td>\n",
       "      <td>0</td>\n",
       "      <td>0</td>\n",
       "      <td>0</td>\n",
       "      <td>1</td>\n",
       "      <td>0</td>\n",
       "      <td>0</td>\n",
       "    </tr>\n",
       "  </tbody>\n",
       "</table>\n",
       "<p>5 rows × 28 columns</p>\n",
       "</div>"
      ],
      "text/plain": [
       "   PassengerId  Survived  Pclass  \\\n",
       "0            1         0       3   \n",
       "1            2         1       1   \n",
       "2            3         1       3   \n",
       "3            4         1       1   \n",
       "4            5         0       3   \n",
       "\n",
       "                                                Name     Sex   Age  SibSp  \\\n",
       "0                            Braund, Mr. Owen Harris    male  22.0      1   \n",
       "1  Cumings, Mrs. John Bradley (Florence Briggs Th...  female  38.0      1   \n",
       "2                             Heikkinen, Miss. Laina  female  26.0      0   \n",
       "3       Futrelle, Mrs. Jacques Heath (Lily May Peel)  female  35.0      1   \n",
       "4                           Allen, Mr. William Henry    male  35.0      0   \n",
       "\n",
       "   Parch            Ticket     Fare  ... Pclass_3 Sex_female Sex_male  \\\n",
       "0      0         A/5 21171   7.2500  ...        1          0        1   \n",
       "1      0          PC 17599  71.2833  ...        0          1        0   \n",
       "2      0  STON/O2. 3101282   7.9250  ...        1          1        0   \n",
       "3      0            113803  53.1000  ...        0          1        0   \n",
       "4      0            373450   8.0500  ...        1          0        1   \n",
       "\n",
       "   Age_categories_Missing  Age_categories_Infant  Age_categories_Child  \\\n",
       "0                       0                      0                     0   \n",
       "1                       0                      0                     0   \n",
       "2                       0                      0                     0   \n",
       "3                       0                      0                     0   \n",
       "4                       0                      0                     0   \n",
       "\n",
       "   Age_categories_Teenager  Age_categories_Young Adult  Age_categories_Adult  \\\n",
       "0                        0                           1                     0   \n",
       "1                        0                           0                     1   \n",
       "2                        0                           1                     0   \n",
       "3                        0                           1                     0   \n",
       "4                        0                           1                     0   \n",
       "\n",
       "   Age_categories_Senior  \n",
       "0                      0  \n",
       "1                      0  \n",
       "2                      0  \n",
       "3                      0  \n",
       "4                      0  \n",
       "\n",
       "[5 rows x 28 columns]"
      ]
     },
     "execution_count": 18,
     "metadata": {},
     "output_type": "execute_result"
    }
   ],
   "source": [
    "train.head()"
   ]
  },
  {
   "cell_type": "markdown",
   "metadata": {
    "_cell_guid": "7fe7684f-a737-4619-82c6-3d246cc58683",
    "_uuid": "31190e72d5132f931ce7a178a97db40510471991"
   },
   "source": [
    "## 5. 创建我们的第一个机器学习模型"
   ]
  },
  {
   "cell_type": "markdown",
   "metadata": {
    "_cell_guid": "4133d104-2477-4057-a871-39e59bcf6af3",
    "_uuid": "fd120c850b1252e409b8c6e0b8e88731f37a2a8a"
   },
   "source": [
    "现在数据已经准备好了，就可以开始训练的第一个机器学习模型了。我们将使用的第一个模型称为Logistic回归（Logistic Regression），这通常是在进行分类时要训练的第一个模型。\n",
    "\n",
    "我们将使用 `scikit-learn` 机器学习库，因为它有许多工具，使机器学习更容易。`scikit-learn` 工作流包括四个主要步骤：\n",
    "\n",
    "* 初始化/创建机器学习模型对象\n",
    "* 使用训练数据训练模型\n",
    "* 使用模型进行预测\n",
    "* 对预测精度进行评估\n",
    "* `scikit-learn` 中的每一个机器学习模型都以一个单独的类进行实现，因此我们将要使用 `LogisticRegression` 类来创建模型对象：\n",
    "\n",
    "我们首先导入库和类:\n",
    "\n",
    "```python\n",
    "from sklearn.linear_model import LogisticRegression\n",
    "```\n",
    "\n",
    "其次创建类 `LogisticRegression` 的对象:\n",
    "\n",
    "```python\n",
    "lr = LogisticRegression()\n",
    "```\n",
    "\n",
    "最后，我们使用 ```LogisticRegression.fit()``` 方法来训练我们的模型。```LogisticRegression.fit()``` 方法接受两个参数：X和y。X必须是要训练模型的特征的二维数组（如数据帧），y必须是目标的一维数组（如序列）或要预测的列。\n",
    "\n",
    "```python\n",
    "columns = ['Pclass_2', 'Pclass_3', 'Sex_male']\n",
    "lr.fit(train[columns], train['Survived'])\n",
    "```\n",
    "\n",
    "The code above fits (or trains) our LogisticRegression model using three columns: Pclass_2, Pclass_3, and Sex_male.\n",
    "\n",
    "上面的代码使用三列来拟合（或训练）我们的 `LogisticsRegression` 模型：`Pclass_2`、`Pclass_3和sex_male。"
   ]
  },
  {
   "cell_type": "markdown",
   "metadata": {
    "_cell_guid": "3cc7dda2-18bb-43d9-90d0-86f9368286f8",
    "_uuid": "431dc82bd85e0c044448659e4086c69e672725ad"
   },
   "source": [
    "### 说明\n",
    "\n",
    "* 实例化 `LogisticRegression` 对象 `lr`。\n",
    "* 使用 `LogisticRegression.fit()` 方法对训练数据进行拟合。"
   ]
  },
  {
   "cell_type": "code",
   "execution_count": 19,
   "metadata": {
    "_cell_guid": "7f962c4f-205f-4c16-b7ae-63910bf17517",
    "_uuid": "2a5f88cdf2ca1d3c8131761e585182975a50d29a"
   },
   "outputs": [],
   "source": [
    "columns = ['Pclass_1', 'Pclass_2', 'Pclass_3', 'Sex_female', 'Sex_male',\n",
    "       'Age_categories_Missing','Age_categories_Infant',\n",
    "       'Age_categories_Child', 'Age_categories_Teenager',\n",
    "       'Age_categories_Young Adult', 'Age_categories_Adult',\n",
    "       'Age_categories_Senior']\n",
    "\n",
    "from sklearn.linear_model import LogisticRegression"
   ]
  },
  {
   "cell_type": "code",
   "execution_count": 20,
   "metadata": {
    "_cell_guid": "9afff557-fc69-4dff-be13-1f819110b6b0",
    "_uuid": "2c1002c689e8a5211224d8b1d8ad00a858611c12"
   },
   "outputs": [
    {
     "data": {
      "text/plain": [
       "LogisticRegression(C=1.0, class_weight=None, dual=False, fit_intercept=True,\n",
       "                   intercept_scaling=1, l1_ratio=None, max_iter=100,\n",
       "                   multi_class='warn', n_jobs=None, penalty='l2',\n",
       "                   random_state=None, solver='lbfgs', tol=0.0001, verbose=0,\n",
       "                   warm_start=False)"
      ]
     },
     "execution_count": 20,
     "metadata": {},
     "output_type": "execute_result"
    }
   ],
   "source": [
    "lr = LogisticRegression(solver='lbfgs')\n",
    "lr.fit(train[columns], train['Survived'])"
   ]
  },
  {
   "cell_type": "markdown",
   "metadata": {
    "_cell_guid": "aa7c070b-7277-4a6e-ac70-87c1c500e1db",
    "_uuid": "fec795a1a2f6d5fd73ae44614b80abe1f8ed74ad"
   },
   "source": [
    "## 6. 对训练数据进行划分"
   ]
  },
  {
   "cell_type": "markdown",
   "metadata": {
    "_cell_guid": "efabbdd9-81b3-4882-ae03-131786f12b4d",
    "_uuid": "3cb196009407ec4c1f031027661b611fd6aba287"
   },
   "source": [
    "恭喜你，你已经训练了你的第一个机器学习模型！我们的下一步是找出我们的模型有多精确，要做到这一点，我们必须做出一些预测。\n",
    "\n",
    "如果您还记得以前的情况，我们确实有一个测试数据帧，可以用来进行预测。我们可以对这个数据集进行预测，但是因为它没有幸存者的列，所以我们必须将它提交给 Kaggle 网站来确定我们模型的准确性。如果我们每次优化模型时都必须提交以检查准确性，这将很快成为一个难题。\n",
    "\n",
    "我们也可以在我们的训练数据帧上进行拟合和预测，但是如果我们这样做，我们的模型很可能会过拟合，这意味着它会在训练集上表现良好，因为我们正在测试我们训练过的相同数据，但随后在新的、看不见的数据上表现更差。\n",
    "\n",
    "我们可以把训练集分成两个部分：\n",
    "\n",
    "* 用于训练模型的部分（通常为整个训练集的80%）\n",
    "* 用于测试模型的部分 (通常为整个训练集的20%）\n",
    "\n",
    "机器学习的惯例是把这两部分称为训练集和测试集。这可能会变得有些混淆，因为我们已经有了测试数据帧，我们最终将使用它来进行预测，以提交给 Kaggle网站。为了避免混淆，从这里开始，我们将这个 Kaggle 测试数据称为留出数据（holdout data），这是为用于最终预测的这类数据命名的技术名称。\n",
    "\n",
    "`scikit-learn` 有一个方便的函数 [```model_selection.train_test_split()```](http://scikit-learn.org/stable/modules/generated/sklearn.model_selection.train_test_split.html) 可以用于数据划分。 `train_test_split()` 函数接受两个参数： ```X``` 和 ```y```， 然后返回四个对象： ```train_X, train_y, test_X, test_y```："
   ]
  },
  {
   "cell_type": "markdown",
   "metadata": {
    "_cell_guid": "7fe3e291-fa4a-4698-9b1c-a9530fc65721",
    "_uuid": "a2ed3abc31b1622f820013f4bacffddb494722e5"
   },
   "source": [
    "![](https://s3.amazonaws.com/dq-content/185/kaggle_train_test_split.svg)"
   ]
  },
  {
   "cell_type": "markdown",
   "metadata": {
    "_cell_guid": "dd08c1c7-c7c1-4d6e-99a7-390234f2d547",
    "_uuid": "102aa92be2848c2a2ce4d6ca4d37b1c7aa4fcbe1"
   },
   "source": [
    "进行数据划分的基本语法是：\n",
    "\n",
    "```python\n",
    "from sklearn.model_selection import train_test_split\n",
    "\n",
    "columns = ['Pclass_2', 'Pclass_3', 'Sex_male']\n",
    "\n",
    "all_X = train[columns]\n",
    "all_y = train['Survived']\n",
    "\n",
    "train_X, test_X, train_y, test_y = train_test_split(\n",
    "    all_X, all_y, test_size=0.2, random_state=0)\n",
    "```\n",
    "\n",
    "您会注意到，我们还使用了另外两个参数：```test_size```，它允许我们控制将数据分割成什么比例，以及```random_state```。```train_test_split()```函数在分割观测值之前将观测值随机化，设置一个随机种子意味着我们的结果将是可重复的，这对于协作或每次都需要生成一致的结果非常重要。"
   ]
  },
  {
   "cell_type": "markdown",
   "metadata": {
    "_cell_guid": "8f6b6d7b-2106-4537-9533-94552560ae5c",
    "_uuid": "be32178cc446763782d184037e12c5c31901b049"
   },
   "source": [
    "### 说明\n",
    "\n",
    "* 使用 `model_selection.train_test_split()` 对训练集进行划分：\n",
    "    * `test_size` 为 0.2\n",
    "    * `random_state` 为 0\n",
    "* 将返回对象赋值给：`train_X`, `test_X`, `train_y` 和 `test_y`。"
   ]
  },
  {
   "cell_type": "code",
   "execution_count": 21,
   "metadata": {
    "_cell_guid": "1d88d118-f875-42b1-a898-b25e2d9a2f1f",
    "_uuid": "6184ee18a60bafe1369e62e2ed5faf64ec0e0d9f"
   },
   "outputs": [],
   "source": [
    "# from now on we will refer to thisdataframe as the holdout data.\n",
    "holdout = test \n",
    "\n",
    "from sklearn.model_selection import train_test_split\n",
    "\n",
    "columns = ['Pclass_1', 'Pclass_2', 'Pclass_3', 'Sex_female', 'Sex_male',\n",
    "       'Age_categories_Missing','Age_categories_Infant',\n",
    "       'Age_categories_Child', 'Age_categories_Teenager',\n",
    "       'Age_categories_Young Adult', 'Age_categories_Adult',\n",
    "       'Age_categories_Senior']\n",
    "\n",
    "all_X = train[columns]\n",
    "all_y = train['Survived']\n",
    "\n",
    "train_X, test_X, train_y, test_y = train_test_split(all_X, all_y, test_size=0.2,random_state=0)"
   ]
  },
  {
   "cell_type": "code",
   "execution_count": 22,
   "metadata": {
    "_cell_guid": "4a4270c0-8a35-4705-aad5-6ea7b36e8bcd",
    "_uuid": "d80e9d974f73d99dd29378bd1e56889498ae4fc3"
   },
   "outputs": [
    {
     "name": "stdout",
     "output_type": "stream",
     "text": [
      "(712, 15)\n",
      "(179, 15)\n"
     ]
    }
   ],
   "source": [
    "print(train_X.shape)\n",
    "print(test_X.shape)"
   ]
  },
  {
   "cell_type": "markdown",
   "metadata": {
    "_cell_guid": "2881b09d-629b-48f1-a32b-20a150b85639",
    "_uuid": "cd5c1a42164574d618bf3eb8ce272e2af553ebd3"
   },
   "source": [
    "## 7. 预测并度量其准确性"
   ]
  },
  {
   "cell_type": "markdown",
   "metadata": {
    "_cell_guid": "a4868d6a-51eb-4657-9d77-77fa9592e3c3",
    "_uuid": "88f255bb00ef07be0caf49b9ae9636421fc679bd"
   },
   "source": [
    "现在我们已经将数据分为训练集和测试集，我们可以在训练集上再次拟合我们的模型，然后使用该模型对我们的测试集进行预测。\n",
    "\n",
    "一旦我们训练好模型， 我们就能够使用 ```LogisticRegression.predict()``` 方法进行预测。\n",
    "\n",
    "```predict()``` 方法接受一个参数```X```，这是一个二维特征数组，用于我们希望预测的观测值。```X``` 必须具有与我们用来拟合模型的数组完全相同的特征。该方法返回一维预测数组。\n",
    "\n",
    "```python\n",
    "lr = LogisticRegression()\n",
    "lr.fit(train_X, train_y)\n",
    "predictions = lr.predict(test_X)\n",
    "```"
   ]
  },
  {
   "cell_type": "markdown",
   "metadata": {
    "_cell_guid": "0b177159-c0c3-403b-af4e-39f9f41ca2f3",
    "_uuid": "150c731afe7ca4c4da8c2d14d81f9653bd1f96a7"
   },
   "source": [
    "有很多方法可以度量机器学习模型的精度，但是在 Kaggle 比赛中，您希望确保使用与 Kaggle 用于计算特定比赛精度相同的方法。\n",
    "\n",
    "在这种情况下，[the evaluation section for the Titanic competition on Kaggle](https://www.kaggle.com/c/titanic#evaluation) 告诉我们，我们的分数计算为“乘客正确预测的百分比”。这是迄今为止最常见的二分类精度形式。\n",
    "\n",
    "举个例子，假设我们预测的是一个由5个观测值组成的小数据集。"
   ]
  },
  {
   "cell_type": "markdown",
   "metadata": {
    "_cell_guid": "9a8e3b8f-0fb8-4888-ad4d-b9c003ca2dea",
    "_uuid": "650162608c2c17945085e46d6ee4273446f80359"
   },
   "source": [
    "|Our model's prediction|The actual value|Correct|\n",
    "|----------------------|----------------|-------|\n",
    "|0                     |0               |Yes    |\n",
    "|1                     |0               |No     |\n",
    "|0                     |1               |No     |\n",
    "|1                     |1               |Yes    |\n",
    "|1                     |1               |Yes    |"
   ]
  },
  {
   "cell_type": "markdown",
   "metadata": {
    "_cell_guid": "c360c258-c372-40ee-856b-7aacc23dc0a7",
    "_uuid": "db00cc2f3bf44265dc7797a21a08ada72401af9d"
   },
   "source": [
    "在这种情况下，我们的模型正确地预测了五个值中的三个，因此基于该预测集的精度将为60%。\n",
    "\n",
    "同样，`scikit-learn` 有一个方便的功能可以用来计算模型的精度：[```metrics.accuracy_score()```](http://scikit-learn.org/stable/modules/generated/sklearn.metrics.accuracy_score.html)。整个函数接受两个参数： ```y_true``` 和 ```y_pred```，分别是实际值和我们的预测值，并返回我们的准确度得分。\n",
    "\n",
    "```python \n",
    "from sklearn.metrics import accuracy_score\n",
    "accuracy = accuracy_score(test_y, predictions)\n",
    "```"
   ]
  },
  {
   "cell_type": "markdown",
   "metadata": {
    "_cell_guid": "4cbfb29b-4e2a-407b-87c4-684b73e696d0",
    "_uuid": "519d6d101a6ee173b44848b61a5ec42b05d15cc5"
   },
   "source": [
    "### 说明\n",
    "\n",
    "* 实例化 ```LogisticRegression()``` 对象 ```lr```。\n",
    "* 使用 ```train_X``` 和 ```train_y``` 拟合模型。\n",
    "* 使用 ```test_X``` 进行预测并将结果赋给 ```predictions```。\n",
    "* 使用 ```accuracy_score()``` 对 ```test_y``` 和 ```predictions``` 进行比较，将结果赋给 ```accuracy```。\n",
    "* 输出 ```accuracy``` 变量的值。"
   ]
  },
  {
   "cell_type": "code",
   "execution_count": 23,
   "metadata": {
    "_cell_guid": "4f7b65e7-b92a-492e-81a0-269890602a4c",
    "_uuid": "e7a6b650cbf06bd3e3ea2eaaf146ed30f6101f96"
   },
   "outputs": [],
   "source": [
    "from sklearn.metrics import accuracy_score"
   ]
  },
  {
   "cell_type": "code",
   "execution_count": 24,
   "metadata": {
    "_cell_guid": "ca7fdf3f-84c4-4062-bb77-d57e1240a54b",
    "_uuid": "d18a458a7a3783ab28f06fb01709a4b30dd070f7",
    "scrolled": true
   },
   "outputs": [
    {
     "data": {
      "text/plain": [
       "0.8100558659217877"
      ]
     },
     "execution_count": 24,
     "metadata": {},
     "output_type": "execute_result"
    }
   ],
   "source": [
    "lr = LogisticRegression(solver='lbfgs')\n",
    "lr.fit(train_X, train_y)\n",
    "predictions = lr.predict(test_X)\n",
    "accuracy = accuracy_score(test_y, predictions)\n",
    "accuracy"
   ]
  },
  {
   "cell_type": "code",
   "execution_count": 25,
   "metadata": {
    "_cell_guid": "881ceab0-1862-433a-8f12-fa09d1c09469",
    "_uuid": "815bba401eb31764d72ecd545fcc47320f9ceaa7"
   },
   "outputs": [
    {
     "data": {
      "text/html": [
       "<div>\n",
       "<style scoped>\n",
       "    .dataframe tbody tr th:only-of-type {\n",
       "        vertical-align: middle;\n",
       "    }\n",
       "\n",
       "    .dataframe tbody tr th {\n",
       "        vertical-align: top;\n",
       "    }\n",
       "\n",
       "    .dataframe thead th {\n",
       "        text-align: right;\n",
       "    }\n",
       "</style>\n",
       "<table border=\"1\" class=\"dataframe\">\n",
       "  <thead>\n",
       "    <tr style=\"text-align: right;\">\n",
       "      <th></th>\n",
       "      <th>Survived</th>\n",
       "      <th>Died</th>\n",
       "    </tr>\n",
       "  </thead>\n",
       "  <tbody>\n",
       "    <tr>\n",
       "      <td>Survived</td>\n",
       "      <td>96</td>\n",
       "      <td>14</td>\n",
       "    </tr>\n",
       "    <tr>\n",
       "      <td>Died</td>\n",
       "      <td>20</td>\n",
       "      <td>49</td>\n",
       "    </tr>\n",
       "  </tbody>\n",
       "</table>\n",
       "</div>"
      ],
      "text/plain": [
       "          Survived  Died\n",
       "Survived        96    14\n",
       "Died            20    49"
      ]
     },
     "execution_count": 25,
     "metadata": {},
     "output_type": "execute_result"
    }
   ],
   "source": [
    "from sklearn.metrics import confusion_matrix\n",
    "\n",
    "conf_matrix = confusion_matrix(test_y, predictions)\n",
    "pd.DataFrame(conf_matrix, columns=['Survived', 'Died'], index=[['Survived', 'Died']])"
   ]
  },
  {
   "cell_type": "markdown",
   "metadata": {
    "_cell_guid": "b391966f-c8da-4377-a82a-e2f29527bde6",
    "_uuid": "6fc9538ed2a3dfe4ffa2457136e306cd2553e082"
   },
   "source": [
    "## 使用交叉验证进行更精确的误差测量"
   ]
  },
  {
   "cell_type": "markdown",
   "metadata": {
    "_cell_guid": "72eef752-4f63-4e34-8519-e48bd075ad1f",
    "_uuid": "247a6d78b506fc7df36ccd13b831462b64567ace"
   },
   "source": [
    "当与20%的测试集进行测试时，我们的模型的准确度得分为81.0%。考虑到这个数据集非常小，我们的模型很有可能是过拟合的，并且不会在完全看不见的数据上表现得那么好。\n",
    "\n",
    "为了让我们更好地了解模型的实际性能，我们可以使用一种称为**交叉验证**（ cross-validation）的技术，在不同的数据分割上训练和测试我们的模型，然后平均准确度得分。"
   ]
  },
  {
   "cell_type": "markdown",
   "metadata": {
    "_cell_guid": "ca68d862-4920-496a-a5e7-eebd909038f9",
    "_uuid": "9a7cffe679420e7e2234c515c8a6cc1f75771dba"
   },
   "source": [
    "![](https://s3.amazonaws.com/dq-content/185/kaggle_cross_validation.svg)"
   ]
  },
  {
   "cell_type": "markdown",
   "metadata": {
    "_cell_guid": "cb09a6a4-0f07-41fb-bc13-eb36aaa49f74",
    "_uuid": "1b3b9b2f8ad9ac6e5d8aa34a091598b43c644f6b"
   },
   "source": [
    "最常见的交叉验证形式，也就是我们将要使用的交叉验证形式，叫做**k-fold**交叉验证。“fold”是指我们训练模型的每个不同迭代，“k”只是指折叠次数。在上图中，我们演示了k倍验证，其中k是5。\n",
    "\n",
    "我们会使用 `scikit-learn` 的 [```model_selection.cross_val_score()```](http://scikit-learn.org/stable/modules/generated/sklearn.model_selection.cross_val_score.html#sklearn.model_selection.cross_val_score) 函数进行交叉验证。用于 ```cross_val_score()``` 的基本语法是："
   ]
  },
  {
   "cell_type": "markdown",
   "metadata": {
    "_cell_guid": "3b6738fc-78c5-49ab-9267-c88682f0fdac",
    "_uuid": "35831e60ad6738fea5079365126b937f7071a5d6"
   },
   "source": [
    "```python\n",
    "cross_val_score(estimator, X, y, cv=None)\n",
    "```"
   ]
  },
  {
   "cell_type": "markdown",
   "metadata": {
    "_cell_guid": "29c545eb-a98e-481e-8358-61ea87ec3c0d",
    "_uuid": "24856991795248188d7a0551f53129be3b2e09b8"
   },
   "source": [
    "* `estimator` 是 `scikit-learn` 预测对象，例如 `LogisticRegression()` 对象。\n",
    "* `X` 是数据集中的所有特征。\n",
    "* `y` 目标标签。\n",
    "* `cv` 表示折叠次数。\n",
    "\n",
    "这个函数用 numpy 数组返回每次验证的精度分数。\n",
    "\n",
    "值得注意的是，```cross_val_score()```函数可以使用多种交叉验证技术和评分类型，但它默认为我们输入类型的 `k-fold` 和准确度评分。"
   ]
  },
  {
   "cell_type": "markdown",
   "metadata": {
    "_cell_guid": "a4e65570-94c9-411e-adf3-84fcaa81cf67",
    "_uuid": "daa12cab3559aa711e2357def11876338a2ad35e"
   },
   "source": [
    "### 说明\n",
    "\n",
    "* 实例化 `LogisticRegression()` 对象 `lr`。\n",
    "* 使用 `model_selection.cross_val_score()` 进行交叉验证：\n",
    "    * 使用 `lr` 作为预测器。\n",
    "    * 使用 `all_X` 和 `all_y` 作为输入数据。\n",
    "    * k = 10。\n",
    "* 使用 `numpy.mean()` 函数计算分数的平均值。\n",
    "* 输出结果。"
   ]
  },
  {
   "cell_type": "code",
   "execution_count": 26,
   "metadata": {
    "_cell_guid": "9b90797a-29bf-478b-9c47-4ff715dfb8aa",
    "_uuid": "0f5facf07093ae82057dad974a31b7d742ccb8c4"
   },
   "outputs": [
    {
     "name": "stdout",
     "output_type": "stream",
     "text": [
      "(10,)\n"
     ]
    },
    {
     "data": {
      "text/plain": [
       "0.8024670865963002"
      ]
     },
     "execution_count": 26,
     "metadata": {},
     "output_type": "execute_result"
    }
   ],
   "source": [
    "from sklearn.model_selection import cross_val_score\n",
    "import numpy as np\n",
    "\n",
    "lr = LogisticRegression(solver='lbfgs')\n",
    "scores = cross_val_score(lr, all_X, all_y, cv=10)\n",
    "print(scores.shape)\n",
    "np.mean(scores)"
   ]
  },
  {
   "cell_type": "markdown",
   "metadata": {
    "_cell_guid": "604e9787-4501-4d8e-b640-0f4ab7688c2a",
    "_uuid": "4aa1c3e51c040ec5a948204da5364197715a0de5"
   },
   "source": [
    "## 9. 对新的数据进行预测\n",
    "\n",
    "从我们的k-fold验证的结果中，你可以看到准确率的数字随着每一次的变化而变化，范围在76.4%到87.6%之间。这说明了为什么交叉验证很重要。\n",
    "\n",
    "碰巧的是，我们的平均准确度得分是80.2%，这与我们从简单的训练/测试分离中得到的81.0%相差不远。但是情况并非总是如此，您应该始终使用交叉验证来确保您从模型中得到的错误度量是准确的。\n",
    "\n",
    "我们现在已经准备好使用我们已经建立的模型来训练我们的最终模型，然后对留出数据或 Kaggle 所称的“测试”数据集进行预测。"
   ]
  },
  {
   "cell_type": "markdown",
   "metadata": {
    "_cell_guid": "d40e593e-8363-4b6f-9c5c-244b4712c3f5",
    "_uuid": "4a211474746e0e7483f97c0f2c60e94c7223fe3f"
   },
   "source": [
    "### 说明\n",
    "\n",
    "* 实例化 ```LogisticRegression()``` 对象 ```lr```。\n",
    "* 使用 ```fit()``` 训练模型，基于数据 ```all_X``` 和 ```all_y```。\n",
    "* 使用数据 ```holdout``` 进行预测，将结果赋给 ```holdout_predictions```。"
   ]
  },
  {
   "cell_type": "code",
   "execution_count": 17,
   "metadata": {
    "_cell_guid": "1c4638e3-31eb-42cb-97d4-ccbc077b1921",
    "_uuid": "2e648299c1347d425ea2ef9ec1aa293f2f1d24a7"
   },
   "outputs": [],
   "source": [
    "columns = ['Pclass_1', 'Pclass_2', 'Pclass_3', 'Sex_female', 'Sex_male',\n",
    "       'Age_categories_Missing','Age_categories_Infant',\n",
    "       'Age_categories_Child', 'Age_categories_Teenager',\n",
    "       'Age_categories_Young Adult', 'Age_categories_Adult',\n",
    "       'Age_categories_Senior']"
   ]
  },
  {
   "cell_type": "code",
   "execution_count": 18,
   "metadata": {
    "_cell_guid": "d3c3048a-d2b4-4e27-aee1-f654339b7fa5",
    "_uuid": "8483be1f8e813eba167339ae09cfe6dde342eae1"
   },
   "outputs": [
    {
     "ename": "NameError",
     "evalue": "name 'holdout' is not defined",
     "output_type": "error",
     "traceback": [
      "\u001b[0;31m---------------------------------------------------------------------------\u001b[0m",
      "\u001b[0;31mNameError\u001b[0m                                 Traceback (most recent call last)",
      "\u001b[0;32m<ipython-input-18-959e9da9d922>\u001b[0m in \u001b[0;36m<module>\u001b[0;34m\u001b[0m\n\u001b[0;32m----> 1\u001b[0;31m \u001b[0mholdout\u001b[0m\u001b[0;34m.\u001b[0m\u001b[0mhead\u001b[0m\u001b[0;34m(\u001b[0m\u001b[0;34m)\u001b[0m\u001b[0;34m\u001b[0m\u001b[0;34m\u001b[0m\u001b[0m\n\u001b[0m",
      "\u001b[0;31mNameError\u001b[0m: name 'holdout' is not defined"
     ]
    }
   ],
   "source": [
    "holdout.head()"
   ]
  },
  {
   "cell_type": "code",
   "execution_count": 29,
   "metadata": {
    "_cell_guid": "4aa6c826-26e3-4b5e-8566-4e05e70ea395",
    "_uuid": "9711c24e72d7263f50d8f8968a8856f668a71364"
   },
   "outputs": [
    {
     "name": "stdout",
     "output_type": "stream",
     "text": [
      "(418,)\n"
     ]
    },
    {
     "data": {
      "text/plain": [
       "array([0, 0, 0, 0, 1, 0, 1, 0, 1, 0, 0, 0, 1, 0, 1, 1, 0, 0, 1, 0, 0, 0,\n",
       "       1, 1, 1, 0, 1, 0, 0, 0, 0, 0, 1, 1, 1, 0, 1, 1, 0, 0, 0, 0, 0, 1,\n",
       "       1, 0, 0, 0, 1, 0, 1, 0, 1, 1, 0, 0, 0, 0, 0, 1, 0, 0, 0, 1, 0, 1,\n",
       "       1, 0, 1, 1, 1, 0, 1, 1, 1, 1, 0, 1, 0, 1, 0, 0, 0, 0, 0, 0, 1, 1,\n",
       "       1, 1, 1, 0, 1, 0, 1, 0, 1, 0, 1, 0, 1, 0, 0, 0, 1, 0, 0, 0, 0, 0,\n",
       "       0, 1, 1, 1, 1, 0, 0, 1, 0, 1, 1, 0, 1, 0, 0, 1, 0, 1, 0, 0, 0, 0,\n",
       "       1, 0, 0, 0, 0, 0, 1, 0, 1, 1, 0, 0, 0, 0, 0, 0, 0, 0, 1, 0, 0, 0,\n",
       "       0, 0, 1, 1, 0, 1, 1, 0, 1, 0, 0, 1, 0, 0, 1, 1, 0, 0, 0, 0, 0, 1,\n",
       "       1, 0, 1, 1, 0, 0, 1, 0, 1, 0, 1, 0, 1, 0, 0, 0, 0, 0, 0, 0, 0, 1,\n",
       "       0, 1, 1, 0, 0, 1, 0, 0, 1, 0, 1, 0, 0, 0, 0, 1, 0, 0, 1, 0, 1, 0,\n",
       "       1, 0, 1, 0, 1, 1, 0, 1, 0, 0, 0, 1, 0, 0, 0, 0, 0, 0, 1, 1, 1, 1,\n",
       "       0, 0, 0, 0, 1, 0, 1, 1, 1, 0, 1, 0, 0, 0, 0, 0, 1, 0, 0, 0, 1, 1,\n",
       "       0, 0, 0, 0, 1, 0, 0, 0, 1, 1, 0, 1, 0, 0, 0, 0, 1, 0, 1, 1, 1, 0,\n",
       "       0, 1, 0, 0, 0, 1, 0, 0, 0, 0, 1, 0, 1, 0, 0, 0, 0, 0, 1, 1, 1, 0,\n",
       "       0, 0, 0, 0, 0, 0, 1, 1, 0, 0, 0, 0, 0, 0, 0, 1, 1, 0, 1, 0, 0, 0,\n",
       "       1, 0, 0, 1, 0, 1, 0, 0, 0, 0, 0, 0, 0, 1, 0, 1, 0, 0, 0, 1, 1, 0,\n",
       "       0, 0, 1, 0, 1, 0, 0, 1, 0, 1, 1, 0, 1, 1, 0, 1, 1, 0, 0, 1, 0, 0,\n",
       "       1, 1, 1, 0, 0, 0, 0, 0, 1, 1, 0, 1, 0, 0, 0, 0, 1, 1, 0, 0, 0, 1,\n",
       "       0, 1, 0, 0, 1, 0, 1, 0, 0, 0, 0, 0, 1, 1, 1, 1, 1, 0, 1, 0, 0, 0],\n",
       "      dtype=int64)"
      ]
     },
     "execution_count": 29,
     "metadata": {},
     "output_type": "execute_result"
    }
   ],
   "source": [
    "lr = LogisticRegression(solver='lbfgs')\n",
    "lr.fit(all_X, all_y)\n",
    "holdout_predictions = lr.predict(holdout[columns])\n",
    "print(holdout_predictions.shape)\n",
    "holdout_predictions"
   ]
  },
  {
   "cell_type": "markdown",
   "metadata": {
    "_cell_guid": "96438d53-b006-402c-a556-d216e09b01ba",
    "_uuid": "1cfca7733018457ca35223b0b423e3e45f7d1af4"
   },
   "source": [
    "## 10. 创建提交文件"
   ]
  },
  {
   "cell_type": "markdown",
   "metadata": {
    "_cell_guid": "1dc7f737-02d6-4d19-9fa2-b322e43ae8cd",
    "_uuid": "f46f6670f1122780fc012b4a64e29c4b2e32f11a"
   },
   "source": [
    "The last thing we need to do is create a submission file. Each Kaggle competition can have slightly different requirements for the submission file. Here's what is specified on the [Titanic competition evaluation page](https://www.kaggle.com/c/titanic#evaluation):\n",
    "\n",
    "You should submit a csv file with exactly 418 entries plus a header row. Your submission will show an error if you have extra columns (beyond PassengerId and Survived) or rows.\n",
    "\n",
    "The file should have exactly 2 columns:\n",
    "\n",
    "PassengerId (sorted in any order)\n",
    "Survived (contains your binary predictions: 1 for survived, 0 for deceased)\n",
    "The table below shows this in a slightly easier to understand format, so we can visualize what we are aiming for."
   ]
  },
  {
   "cell_type": "markdown",
   "metadata": {
    "_cell_guid": "df5f06af-f996-4594-b290-778505104498",
    "_uuid": "e60039e5533e1e364a0c477e1a9c777e5892614b"
   },
   "source": [
    "|PassengerId|Survived|\n",
    "|-----------|--------|\n",
    "|892        |0       |\n",
    "|893        |1       |\n",
    "|894        |0       |"
   ]
  },
  {
   "cell_type": "markdown",
   "metadata": {
    "_cell_guid": "0d6a7b37-862e-41db-bcbb-c30f6eb87971",
    "_uuid": "7b91fbe68af2effbd4922c7845c7cf7286de3712"
   },
   "source": [
    "We will need to create a new dataframe that contains the holdout_predictions we created in the previous screen and the PassengerId column from the holdout dataframe. We don't need to worry about matching the data up, as both of these remain in their original order.\n",
    "\n",
    "To do this, we can pass a dictionary to the [```pandas.DataFrame()``` function](https://pandas.pydata.org/pandas-docs/stable/generated/pandas.DataFrame.html):"
   ]
  },
  {
   "cell_type": "markdown",
   "metadata": {
    "_cell_guid": "9c97b44c-28f7-4ab3-9a10-84138ac3dfdb",
    "_uuid": "4a114e6705719010c190bd4830e827542e056b27"
   },
   "source": [
    "```python\n",
    "holdout_ids = holdout[\"PassengerId\"]\n",
    "submission_df = {\"PassengerId\": holdout_ids,\n",
    "                 \"Survived\": holdout_predictions}\n",
    "submission = pd.DataFrame(submission_df)\n",
    "```"
   ]
  },
  {
   "cell_type": "markdown",
   "metadata": {
    "_cell_guid": "0e265374-0a8b-41f0-b7e2-3a124190d915",
    "_uuid": "5a6c8bdce2b2f2af5814046cd1890b263364bf39"
   },
   "source": [
    "Finally, we'll use the [```DataFrame.to_csv()``` method](http://pandas.pydata.org/pandas-docs/stable/generated/pandas.DataFrame.to_csv.html) to save the dataframe to a CSV file. We need to make sure the index parameter is set to False, otherwise we will add an extra column to our CSV."
   ]
  },
  {
   "cell_type": "markdown",
   "metadata": {
    "_cell_guid": "d612b812-1a32-4178-93c0-1ea70a1b28ba",
    "_uuid": "c7d2bbef96ceab369372406fdd57a07dae85ba56"
   },
   "source": [
    "### 说明\n",
    "\n",
    "* 创建一个数据帧提交以匹配 Kaggle 的要求。\n",
    "* 使用 ```to_csv()``` 方法将 ```submission``` 数据帧保存到文件 ```submission.csv```。"
   ]
  },
  {
   "cell_type": "code",
   "execution_count": 30,
   "metadata": {
    "_cell_guid": "0c6cce5b-ad8a-4a62-8038-30e6d3fd6460",
    "_uuid": "47a1349026f9e239a1e76c517bca4a28f78f7c81"
   },
   "outputs": [
    {
     "name": "stdout",
     "output_type": "stream",
     "text": [
      "(418, 2)\n",
      "   PassengerId  Survived\n",
      "1          893         0\n",
      "2          894         0\n",
      "3          895         0\n",
      "4          896         1\n",
      "5          897         0\n",
      "6          898         1\n",
      "7          899         0\n",
      "8          900         1\n",
      "9          901         0\n"
     ]
    }
   ],
   "source": [
    "holdout_ids = holdout[\"PassengerId\"]\n",
    "submission_df = {\"PassengerId\": holdout_ids,\n",
    "                 \"Survived\": holdout_predictions}\n",
    "submission = pd.DataFrame(submission_df)\n",
    "print(submission.shape)\n",
    "print(submission[1:10])\n",
    "submission.to_csv('titanic_submission.csv', index=False)"
   ]
  },
  {
   "cell_type": "markdown",
   "metadata": {
    "_cell_guid": "1366f8ea-969e-4145-99f8-59ecee3e2333",
    "_uuid": "dd7fca4c2569857d6fa6098defdad2ced9100874"
   },
   "source": [
    "## 11. 完成Kaggle比赛的首次提交\n",
    "\n",
    "现在我们有了提交文件，我们可以通过点击比赛页面上的蓝色“提交预测”按钮开始向 Kaggle 网站进行提交。"
   ]
  },
  {
   "cell_type": "markdown",
   "metadata": {
    "_cell_guid": "8da78bc0-90a0-4e20-9520-76c82b85a17b",
    "_uuid": "bdfb416c8ff3fb17aa70b69e52a659ebb457d67d"
   },
   "source": [
    "![](https://s3.amazonaws.com/dq-content/185/kaggle_submit.jpg)"
   ]
  },
  {
   "cell_type": "markdown",
   "metadata": {
    "_cell_guid": "66103d95-1967-402f-a664-0347e86a6834",
    "_uuid": "fd6f225377362a1803636447a308b33214f4aed1"
   },
   "source": [
    "然后系统会提示您上传CSV文件，并添加提交的简要说明。当你提交你的文件时，Kaggle会处理你的预测，并给出你的留出数据和你的排名的准确性。完成处理后，您将看到我们的第一次提交获得0.75598或75.6%的准确率分数。"
   ]
  },
  {
   "cell_type": "markdown",
   "metadata": {
    "_cell_guid": "4fe30bc2-76db-4467-aea4-feb46bec27bb",
    "_uuid": "a6fada2e2eed737de0223e738446642035f2a301"
   },
   "source": [
    "![](https://s3.amazonaws.com/dq-content/185/submission_rank.png)"
   ]
  },
  {
   "cell_type": "markdown",
   "metadata": {
    "_cell_guid": "40e4e5c6-94dd-4293-93fb-615c51f41ca4",
    "_uuid": "d38feee7e5387bee299d6f32b0b245260e26c5f8"
   },
   "source": [
    "与交叉验证得到的80.2%的准确率相比，我们在留出数据上的准确率为75.6%，这一事实表明我们的模型与我们的训练数据有点过拟合。\n",
    "\n",
    "75.6%的准确率在7954人中排名6663。在你第一次提交后，很容易看到 Kaggle 的排行榜，并感到气馁，但请记住，这只是一个起点。\n",
    "\n",
    "在 `泰坦尼克号` 比赛排行榜的榜首出现少数100%的分数，这也是非常普遍的。实际上，任何在这场比赛中得分90%左右的人都有可能作弊（很容易在网上查到被拒乘客的姓名，看看他们是否幸存）。"
   ]
  },
  {
   "cell_type": "markdown",
   "metadata": {
    "_cell_guid": "7a8d7ae4-c456-43ef-b353-7e6304185037",
    "_uuid": "e0fa4d9a957287bcf781eb503b6fbf6f7b087671"
   },
   "source": [
    "## 12. 下一步"
   ]
  },
  {
   "cell_type": "markdown",
   "metadata": {
    "_cell_guid": "a24c472d-6df8-4b25-b6cc-f867174da783",
    "_uuid": "19aac309b0cbbcb29f68a14333d39ddac26fdb49"
   },
   "source": [
    "我们可以做很多事情来提高模型的准确性：\n",
    "\n",
    "* 特征改进：\n",
    "    * 特征工程：从已有数据中创建新的特征。\n",
    "    * 特征选择：选择最相关的数据以减少噪声和过拟合。\n",
    "* 模型改进：\n",
    "    * 模型选择：选择不同的模型以提高性能。\n",
    "    * 超参数优化： 对不同机器学习模型的参数进行优化。"
   ]
  },
  {
   "cell_type": "markdown",
   "metadata": {
    "_cell_guid": "e815964c-4a41-4695-bd27-b06563268128",
    "_uuid": "b4e588b70e4620241c6f3bc47e5c70a89b4de084"
   },
   "source": [
    "## 资源\n",
    "\n",
    "* https://www.dataquest.io/course/kaggle-fundamentals"
   ]
  },
  {
   "cell_type": "markdown",
   "metadata": {
    "_cell_guid": "da777ede-a5a5-461a-a2aa-eb8b039d4448",
    "_uuid": "811c05d71fee644d42b73d1ba4eeda8106b637e9"
   },
   "source": [
    "## 进一步阅读\n",
    "\n",
    "* https://github.com/justmarkham/scikit-learn-videos"
   ]
  },
  {
   "cell_type": "code",
   "execution_count": null,
   "metadata": {},
   "outputs": [],
   "source": []
  }
 ],
 "metadata": {
  "kernelspec": {
   "display_name": "Python 3",
   "language": "python",
   "name": "python3"
  },
  "language_info": {
   "codemirror_mode": {
    "name": "ipython",
    "version": 3
   },
   "file_extension": ".py",
   "mimetype": "text/x-python",
   "name": "python",
   "nbconvert_exporter": "python",
   "pygments_lexer": "ipython3",
   "version": "3.7.4"
  }
 },
 "nbformat": 4,
 "nbformat_minor": 1
}
