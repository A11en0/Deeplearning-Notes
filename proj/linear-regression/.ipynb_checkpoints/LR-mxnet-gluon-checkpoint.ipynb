{
 "cells": [
  {
   "cell_type": "markdown",
   "metadata": {},
   "source": [
    "# 使用 mxnet 的 gluon 接口实现线性回归"
   ]
  },
  {
   "cell_type": "code",
<<<<<<< HEAD
   "execution_count": 2,
=======
   "execution_count": 1,
>>>>>>> f68958920c403470bec420fa476ba7dc93bbed37
   "metadata": {},
   "outputs": [],
   "source": [
    "from mxnet import autograd, nd"
   ]
  },
  {
   "cell_type": "code",
<<<<<<< HEAD
   "execution_count": 3,
=======
   "execution_count": 2,
>>>>>>> f68958920c403470bec420fa476ba7dc93bbed37
   "metadata": {},
   "outputs": [],
   "source": [
    "num_inputs = 2\n",
    "num_examples = 1000\n",
    "true_w = [2, -3.4]\n",
    "true_b = 4.2\n",
    "features = nd.random.normal(scale=1, shape=(num_examples, num_inputs))\n",
    "labels = true_w[0] * features[:, 0] + true_w[1] * features[:, 1] + true_b\n",
    "labels += nd.random.normal(scale=0.01, shape=labels.shape)"
   ]
  },
  {
   "cell_type": "code",
<<<<<<< HEAD
   "execution_count": 4,
=======
   "execution_count": 3,
>>>>>>> f68958920c403470bec420fa476ba7dc93bbed37
   "metadata": {},
   "outputs": [],
   "source": [
    "from mxnet.gluon import data as gdata\n",
    "batch_size = 10\n",
    "dataset = gdata.ArrayDataset(features, labels)\n",
    "data_iter = gdata.DataLoader(dataset, batch_size, shuffle=True)"
   ]
  },
  {
   "cell_type": "code",
<<<<<<< HEAD
   "execution_count": 5,
=======
   "execution_count": 4,
>>>>>>> f68958920c403470bec420fa476ba7dc93bbed37
   "metadata": {},
   "outputs": [],
   "source": [
    "# 定义模型\n",
    "from mxnet.gluon import nn\n",
    "net = nn.Sequential()"
   ]
  },
  {
   "cell_type": "code",
<<<<<<< HEAD
   "execution_count": 6,
=======
   "execution_count": 5,
>>>>>>> f68958920c403470bec420fa476ba7dc93bbed37
   "metadata": {},
   "outputs": [],
   "source": [
    "net.add(nn.Dense(1))"
   ]
  },
  {
   "cell_type": "code",
<<<<<<< HEAD
   "execution_count": 7,
=======
   "execution_count": 6,
>>>>>>> f68958920c403470bec420fa476ba7dc93bbed37
   "metadata": {},
   "outputs": [],
   "source": [
    "# 初始化模型参数\n",
    "from mxnet import init\n",
    "net.initialize(init.Normal(sigma=0.01))"
   ]
  },
  {
   "cell_type": "code",
<<<<<<< HEAD
   "execution_count": 8,
=======
   "execution_count": 7,
>>>>>>> f68958920c403470bec420fa476ba7dc93bbed37
   "metadata": {},
   "outputs": [],
   "source": [
    "# 定义损失函数\n",
    "from mxnet.gluon import loss as gloss\n",
    "loss = gloss.L2Loss()"
   ]
  },
  {
   "cell_type": "code",
<<<<<<< HEAD
   "execution_count": 9,
=======
   "execution_count": 8,
>>>>>>> f68958920c403470bec420fa476ba7dc93bbed37
   "metadata": {},
   "outputs": [],
   "source": [
    "# 定义优化算法\n",
    "from mxnet import gluon\n",
    "\n",
    "trainer = gluon.Trainer(net.collect_params(), 'sgd', {'learning_rate': 0.3})"
   ]
  },
  {
   "cell_type": "code",
<<<<<<< HEAD
   "execution_count": 13,
=======
   "execution_count": 9,
>>>>>>> f68958920c403470bec420fa476ba7dc93bbed37
   "metadata": {},
   "outputs": [
    {
     "name": "stdout",
     "output_type": "stream",
     "text": [
<<<<<<< HEAD
      "epoch 1, loss: 0.000052\n",
      "epoch 2, loss: 0.000055\n",
      "epoch 3, loss: 0.000051\n",
      "epoch 4, loss: 0.000050\n",
      "epoch 5, loss: 0.000054\n",
      "epoch 6, loss: 0.000052\n",
      "epoch 7, loss: 0.000052\n",
      "epoch 8, loss: 0.000053\n",
      "epoch 9, loss: 0.000051\n",
      "epoch 10, loss: 0.000055\n"
=======
      "epoch 1, loss: nan\n",
      "epoch 2, loss: nan\n",
      "epoch 3, loss: nan\n",
      "epoch 4, loss: nan\n",
      "epoch 5, loss: nan\n",
      "epoch 6, loss: nan\n",
      "epoch 7, loss: nan\n",
      "epoch 8, loss: nan\n",
      "epoch 9, loss: nan\n",
      "epoch 10, loss: nan\n"
>>>>>>> f68958920c403470bec420fa476ba7dc93bbed37
     ]
    }
   ],
   "source": [
    "epochs = 10\n",
    "for epoch in range(1, epochs + 1):\n",
    "    for X, y in data_iter:\n",
    "        with autograd.record():\n",
<<<<<<< HEAD
    "            l = loss(net(X), y)\n",
    "        l.backward()\n",
    "        trainer.step(batch_size)\n",
    "    l = loss(net(features), labels)\n",
=======
    "            l = loss(net(features), labels)\n",
    "        l.backward()\n",
    "        trainer.step(batch_size)\n",
    "        l = loss(net(features), labels)\n",
>>>>>>> f68958920c403470bec420fa476ba7dc93bbed37
    "    print('epoch %d, loss: %f' % (epoch, l.mean().asnumpy()))"
   ]
  },
  {
   "cell_type": "code",
<<<<<<< HEAD
   "execution_count": 14,
=======
   "execution_count": 10,
>>>>>>> f68958920c403470bec420fa476ba7dc93bbed37
   "metadata": {},
   "outputs": [
    {
     "data": {
      "text/plain": [
       "([2, -3.4], \n",
<<<<<<< HEAD
       " [[ 2.0008292 -3.3972473]]\n",
       " <NDArray 1x2 @cpu(0)>)"
      ]
     },
     "execution_count": 14,
=======
       " [[nan nan]]\n",
       " <NDArray 1x2 @cpu(0)>)"
      ]
     },
     "execution_count": 10,
>>>>>>> f68958920c403470bec420fa476ba7dc93bbed37
     "metadata": {},
     "output_type": "execute_result"
    }
   ],
   "source": [
    "dense = net[0]\n",
    "true_w, dense.weight.data()"
   ]
  },
  {
   "cell_type": "code",
<<<<<<< HEAD
   "execution_count": 15,
=======
   "execution_count": 11,
>>>>>>> f68958920c403470bec420fa476ba7dc93bbed37
   "metadata": {},
   "outputs": [
    {
     "data": {
      "text/plain": [
       "(4.2, \n",
<<<<<<< HEAD
       " [4.1993384]\n",
       " <NDArray 1 @cpu(0)>)"
      ]
     },
     "execution_count": 15,
=======
       " [nan]\n",
       " <NDArray 1 @cpu(0)>)"
      ]
     },
     "execution_count": 11,
>>>>>>> f68958920c403470bec420fa476ba7dc93bbed37
     "metadata": {},
     "output_type": "execute_result"
    }
   ],
   "source": [
    "true_b, dense.bias.data()"
   ]
  }
 ],
 "metadata": {
  "kernelspec": {
<<<<<<< HEAD
   "display_name": "gluon",
   "language": "python",
   "name": "gluon"
=======
   "display_name": "Python [conda env:gluon]",
   "language": "python",
   "name": "conda-env-gluon-py"
  },
  "language_info": {
   "codemirror_mode": {
    "name": "ipython",
    "version": 3
   },
   "file_extension": ".py",
   "mimetype": "text/x-python",
   "name": "python",
   "nbconvert_exporter": "python",
   "pygments_lexer": "ipython3",
   "version": "3.6.9"
>>>>>>> f68958920c403470bec420fa476ba7dc93bbed37
  }
 },
 "nbformat": 4,
 "nbformat_minor": 2
}
